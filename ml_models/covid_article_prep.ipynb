{
 "cells": [
  {
   "cell_type": "markdown",
   "metadata": {},
   "source": [
    "## Prep COVID Data to a useful format for modeling"
   ]
  },
  {
   "cell_type": "code",
   "execution_count": 2,
   "metadata": {},
   "outputs": [],
   "source": [
    "import pandas as pd"
   ]
  },
  {
   "cell_type": "code",
   "execution_count": 3,
   "metadata": {},
   "outputs": [
    {
     "name": "stderr",
     "output_type": "stream",
     "text": [
      "C:\\Users\\mitch\\Anaconda3\\envs\\data_eng_tf\\lib\\site-packages\\IPython\\core\\interactiveshell.py:3166: DtypeWarning: Columns (1,4,5,6,13,14,15,16) have mixed types.Specify dtype option on import or set low_memory=False.\n",
      "  interactivity=interactivity, compiler=compiler, result=result)\n"
     ]
    }
   ],
   "source": [
    "article_metadata = pd.read_csv('../COVID_data/article_metadata/metadata.csv')"
   ]
  },
  {
   "cell_type": "markdown",
   "metadata": {},
   "source": [
    "## Filter out NaNs"
   ]
  },
  {
   "cell_type": "code",
   "execution_count": 4,
   "metadata": {},
   "outputs": [],
   "source": [
    "article_metadata = article_metadata[(~article_metadata['abstract'].isna()) & (~article_metadata['title'].isna())]"
   ]
  },
  {
   "cell_type": "markdown",
   "metadata": {},
   "source": [
    "## Write the data in a format that will be viable for models"
   ]
  },
  {
   "cell_type": "code",
   "execution_count": 11,
   "metadata": {},
   "outputs": [
    {
     "data": {
      "text/plain": [
       "<AxesSubplot:>"
      ]
     },
     "execution_count": 11,
     "metadata": {},
     "output_type": "execute_result"
    },
    {
     "data": {
      "image/png": "[encoded data removed]",
      "text/plain": [
       "<Figure size 432x288 with 1 Axes>"
      ]
     },
     "metadata": {
      "needs_background": "light"
     },
     "output_type": "display_data"
    }
   ],
   "source": [
    "abstract_len = article_metadata['abstract'].apply(lambda x: len(x.split(' ')))\n",
    "abstract_len.hist(bins=10)"
   ]
  },
  {
   "cell_type": "code",
   "execution_count": 14,
   "metadata": {},
   "outputs": [
    {
     "data": {
      "text/plain": [
       "<AxesSubplot:>"
      ]
     },
     "execution_count": 14,
     "metadata": {},
     "output_type": "execute_result"
    },
    {
     "data": {
      "image/png": "[encoded data removed]",
      "text/plain": [
       "<Figure size 432x288 with 1 Axes>"
      ]
     },
     "metadata": {
      "needs_background": "light"
     },
     "output_type": "display_data"
    }
   ],
   "source": [
    "abstract_len[abstract_len <= abstract_len.mean()].hist()"
   ]
  },
  {
   "cell_type": "code",
   "execution_count": 18,
   "metadata": {},
   "outputs": [
    {
     "data": {
      "text/plain": [
       "<AxesSubplot:>"
      ]
     },
     "execution_count": 18,
     "metadata": {},
     "output_type": "execute_result"
    },
    {
     "data": {
      "image/png": "[encoded data removed]",
      "text/plain": [
       "<Figure size 432x288 with 1 Axes>"
      ]
     },
     "metadata": {
      "needs_background": "light"
     },
     "output_type": "display_data"
    }
   ],
   "source": [
    "abstract_len[abstract_len <= (abstract_len.mean() - abstract_len.std())].hist()"
   ]
  },
  {
   "cell_type": "code",
   "execution_count": 21,
   "metadata": {},
   "outputs": [],
   "source": [
    "train_format = article_metadata.apply(lambda x: f\"[Title:] {x['title']} [Abstract:] {x['abstract']}\", axis=1)"
   ]
  },
  {
   "cell_type": "code",
   "execution_count": 22,
   "metadata": {},
   "outputs": [
    {
     "data": {
      "text/plain": [
       "0    [Title:] Clinical features of culture-proven M...\n",
       "1    [Title:] Nitric oxide: a pro-inflammatory medi...\n",
       "2    [Title:] Surfactant protein-D and pulmonary ho...\n",
       "3    [Title:] Role of endothelin-1 in lung disease ...\n",
       "4    [Title:] Gene expression in epithelial cells i...\n",
       "dtype: object"
      ]
     },
     "execution_count": 22,
     "metadata": {},
     "output_type": "execute_result"
    }
   ],
   "source": [
    "train_format.head()"
   ]
  },
  {
   "cell_type": "code",
   "execution_count": 6,
   "metadata": {},
   "outputs": [],
   "source": [
    "to_csv_df = pd.DataFrame(train_format, columns=['text'])\n",
    "to_csv_df.to_csv('../COVID_data/processed_data/processed_article_data/gpt_format_text.csv')"
   ]
  },
  {
   "cell_type": "code",
   "execution_count": 23,
   "metadata": {},
   "outputs": [
    {
     "data": {
      "text/plain": [
       "3         [Title:] Role of endothelin-1 in lung disease ...\n",
       "7         [Title:] The 21st International Symposium on I...\n",
       "42        [Title:] Bioethical Implications of Globalizat...\n",
       "87        [Title:] ProCAT: a data analysis approach for ...\n",
       "120       [Title:] Antibody-Based HIV-1 Vaccines: Recent...\n",
       "                                ...                        \n",
       "490872    [Title:] A socio-technical framework for digit...\n",
       "490874    [Title:] Hepatitis E Virus–Associated Meningoe...\n",
       "490885    [Title:] N95 filtering face piece respirators ...\n",
       "490892    [Title:] Telehealth: “virtual” lifeline for ho...\n",
       "490899    [Title:] Loss aversion fails to replicate in t...\n",
       "Length: 41819, dtype: object"
      ]
     },
     "execution_count": 23,
     "metadata": {},
     "output_type": "execute_result"
    }
   ],
   "source": [
    "train_format[abstract_len <= (abstract_len.mean() - abstract_len.std())]"
   ]
  },
  {
   "cell_type": "code",
   "execution_count": 24,
   "metadata": {},
   "outputs": [],
   "source": [
    "short_to_csv_df = pd.DataFrame(train_format[abstract_len <= (abstract_len.mean() - abstract_len.std())], columns=['text'])\n",
    "short_to_csv_df.to_csv('../COVID_data/processed_data/processed_article_data/gpt_format_text_short.csv')"
   ]
  },
  {
   "cell_type": "code",
   "execution_count": 25,
   "metadata": {},
   "outputs": [],
   "source": [
    "med_to_csv_df = pd.DataFrame(train_format[abstract_len <= (abstract_len.mean())], columns=['text'])\n",
    "med_to_csv_df.to_csv('../COVID_data/processed_data/processed_article_data/gpt_format_text_med.csv')"
   ]
  },
  {
   "cell_type": "code",
   "execution_count": null,
   "metadata": {},
   "outputs": [],
   "source": []
  }
 ],
 "metadata": {
  "kernelspec": {
   "display_name": "Python 3",
   "language": "python",
   "name": "python3"
  },
  "language_info": {
   "codemirror_mode": {
    "name": "ipython",
    "version": 3
   },
   "file_extension": ".py",
   "mimetype": "text/x-python",
   "name": "python",
   "nbconvert_exporter": "python",
   "pygments_lexer": "ipython3",
   "version": "3.7.10"
  }
 },
 "nbformat": 4,
 "nbformat_minor": 4
}

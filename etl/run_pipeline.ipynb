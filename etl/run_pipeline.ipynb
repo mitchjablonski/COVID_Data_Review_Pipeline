{
 "cells": [
  {
   "cell_type": "markdown",
   "id": "extraordinary-appraisal",
   "metadata": {},
   "source": [
    "# Run our ETL Pipeline"
   ]
  },
  {
   "cell_type": "markdown",
   "id": "supreme-logic",
   "metadata": {},
   "source": [
    "## Run the table creation portion of pipeline"
   ]
  },
  {
   "cell_type": "code",
   "execution_count": 1,
   "id": "alert-fever",
   "metadata": {},
   "outputs": [],
   "source": [
    "import create_tables"
   ]
  },
  {
   "cell_type": "code",
   "execution_count": 2,
   "id": "boxed-details",
   "metadata": {},
   "outputs": [
    {
     "name": "stdout",
     "output_type": "stream",
     "text": [
      "DROP TABLE IF EXISTS staging_covid_tweets\n",
      "DROP TABLE IF EXISTS covid_tweets\n",
      "DROP TABLE IF EXISTS staging_covid_vaccine_tweets\n",
      "DROP TABLE IF EXISTS covid_vaccine_tweets\n",
      "DROP TABLE IF EXISTS covid_article_data\n",
      "DROP TABLE IF EXISTS covid_article_data\n",
      "DROP TABLE IF EXISTS vaccine_data\n",
      "DROP TABLE IF EXISTS vaccine_response_data\n",
      "DROP TABLE IF EXISTS vaccine_symptom_data\n",
      "CREATE TABLE IF NOT EXISTS staging_covid_article_data(\n",
      "                                cord_uid TEXT,\n",
      "                                sha TEXT,\n",
      "                                source_x TEXT,\n",
      "                                title varchar(65534),\n",
      "                                doi TEXT,\n",
      "                                pmcid TEXT,\n",
      "                                pubmed_id TEXT,\n",
      "                                license TEXT,\n",
      "                                abstract varchar(65534),\n",
      "                                publish_time TEXT,\n",
      "                                authors TEXT,\n",
      "                                jounal TEXT,\n",
      "                                mag_id TEXT,\n",
      "                                who_covidence_id TEXT,\n",
      "                                arxiv_id TEXT,\n",
      "                                pdf_json_files TEXT,\n",
      "                                pmc_json_files TEXT,\n",
      "                                url TEXT,            \n",
      "                                s2_id TEXT)\n",
      "\n",
      "CREATE  TABLE IF NOT EXISTS staging_covid_vaccine_tweets(\n",
      "                                user_name TEXT,\n",
      "                                user_location TEXT,\n",
      "                                user_description NUMERIC,\n",
      "                                user_created NUMERIC,\n",
      "                                user_friends TEXT,\n",
      "                                user_favourites TEXT,\n",
      "                                user_verified TEXT,\n",
      "                                date TEXT,\n",
      "                                text varchar(65534),\n",
      "                                hashtags TEXT,\n",
      "                                source TEXT,\n",
      "                                is_retweet BOOLEAN)\n",
      "\n",
      "CREATE  TABLE IF NOT EXISTS staging_covid_tweets(\n",
      "                                user_name TEXT,\n",
      "                                user_location TEXT,\n",
      "                                user_description NUMERIC,\n",
      "                                user_created NUMERIC,\n",
      "                                user_friends TEXT,\n",
      "                                user_favourites TEXT,\n",
      "                                user_verified TEXT,\n",
      "                                date TEXT,\n",
      "                                text varchar(65534),\n",
      "                                hashtags TEXT,\n",
      "                                source TEXT,\n",
      "                                is_retweet BOOL)\n",
      "\n",
      "CREATE  TABLE IF NOT EXISTS covid_vaccine_tweets(\n",
      "                                id INT IDENTITY(1, 1) PRIMARY KEY,\n",
      "                                user_name TEXT,\n",
      "                                user_location TEXT,\n",
      "                                date TEXT,\n",
      "                                text varchar(65534))\n",
      "\n",
      "CREATE  TABLE IF NOT EXISTS covid_tweets(\n",
      "                                id INT IDENTITY(1, 1) PRIMARY KEY,\n",
      "                                user_name TEXT,\n",
      "                                user_location TEXT,\n",
      "                                date TEXT,\n",
      "                                text varchar(65534))\n",
      "\n",
      "CREATE TABLE IF NOT EXISTS covid_article_data(\n",
      "                                cord_uid TEXT PRIMARY KEY,\n",
      "                                title varchar(65534),\n",
      "                                abstract varchar(65534),\n",
      "                                publish_time TEXT,\n",
      "                                authors TEXT)\n",
      "\n",
      "CREATE TABLE IF NOT EXISTS vaccine_data(\n",
      "                                VAERS_ID TEXT PRIMARY KEY,\n",
      "                                RECVDATE TEXT,\n",
      "                                AGE_YRS FLOAT,\n",
      "                                CAGE_YR FLOAT,\n",
      "                                CAGE_MO TEXT,\n",
      "                                SEX TEXT,\n",
      "                                RPT_DATE TEXT,\n",
      "                                SYMPTOM_TEXT varchar(65534),\n",
      "                                DIED TEXT,\n",
      "                                DATEDIED TEXT,\n",
      "                                L_THREAT TEXT,\n",
      "                                ER_VISI TEXT,\n",
      "                                HOSPITAL TEXT,\n",
      "                                HOSPDAYS TEXT,\n",
      "                                X_STAY TEXT,\n",
      "                                DISABLE_col TEXT,\n",
      "                                RECOVD TEXT,\n",
      "                                VAX_DAT TEXT,\n",
      "                                ONSET_DATE TEXT,\n",
      "                                NUMDAYS TEXT,\n",
      "                                LAB_DATA TEXT,\n",
      "                                V_ADMINBY TEXT,\n",
      "                                V_FUNDB TEXT,\n",
      "                                OTHER_MEDS TEXT,\n",
      "                                CUR_ILL TEXT,\n",
      "                                HISTORY TEXT,\n",
      "                                PRIOR_VAX TEXT,\n",
      "                                SPLTTYP TEXT,\n",
      "                                FORM_VERS TEXT,\n",
      "                                TODAYS_DATE TEXT,\n",
      "                                BIRTH_DEFECT TEXT,\n",
      "                                OFC_VISIT TEXT,\n",
      "                                ER_ED_VISI TEXT,\n",
      "                                ALLERGIES TEXT)\n",
      "\n",
      "CREATE TABLE IF NOT EXISTS vaccine_symptom_data(\n",
      "                                VAERS_ID TEXT PRIMARY KEY,\n",
      "                                SYMPTOM1 TEXT,\n",
      "                                SYMPTOMVERSION1 FLOAT,\n",
      "                                SYMPTOM2 TEXT,\n",
      "                                SYMPTOMVERSION2 FLOAT,\n",
      "                                SYMPTOM3 TEXT,\n",
      "                                SYMPTOMVERSION3 FLOAT,\n",
      "                                SYMPTOM4 TEXT,\n",
      "                                SYMPTOMVERSION4 FLOAT,\n",
      "                                SYMPTOM5 TEXT,\n",
      "                                SYMPTOMVERSION5 FLOAT)\n",
      "\n",
      "CREATE TABLE IF NOT EXISTS vaccine_manu_data(\n",
      "                                VAERS_ID TEXT PRIMARY KEY,\n",
      "                                VAX_TYPE TEXT,\n",
      "                                VAX_MANU TEXT,\n",
      "                                VAX_LOT TEXT,\n",
      "                                VAX_DOSE_SERIES TEXT,\n",
      "                                VAX_ROUTE TEXT,\n",
      "                                VAX_SITE TEXT,\n",
      "                                VAX_NAME TEXT)\n",
      "\n"
     ]
    }
   ],
   "source": [
    "create_tables.main()"
   ]
  },
  {
   "cell_type": "markdown",
   "id": "cathedral-aurora",
   "metadata": {},
   "source": [
    "## Run our Staging and Data Insertion portion of Pipeline"
   ]
  },
  {
   "cell_type": "code",
   "execution_count": 3,
   "id": "military-liability",
   "metadata": {},
   "outputs": [],
   "source": [
    "import etl"
   ]
  },
  {
   "cell_type": "code",
   "execution_count": 4,
   "id": "corresponding-aquarium",
   "metadata": {},
   "outputs": [
    {
     "name": "stdout",
     "output_type": "stream",
     "text": [
      "copy vaccine_data from 's3://udacity-capstone-data/vaccine_response_data/2021VAERSDATA.csv'\n",
      "                          credentials 'aws_iam_role=arn:aws:iam::244864396415:role/sparkifyDataLakeRole'\n",
      "                          FORMAT AS CSV;\n"
     ]
    },
    {
     "ename": "InternalError_",
     "evalue": "Load into table 'vaccine_data' failed.  Check 'stl_load_errors' system table for details.\n",
     "output_type": "error",
     "traceback": [
      "\u001b[1;31m---------------------------------------------------------------------------\u001b[0m",
      "\u001b[1;31mInternalError_\u001b[0m                            Traceback (most recent call last)",
      "\u001b[1;32m<ipython-input-4-b04e6d9ee8c4>\u001b[0m in \u001b[0;36m<module>\u001b[1;34m\u001b[0m\n\u001b[1;32m----> 1\u001b[1;33m \u001b[0metl\u001b[0m\u001b[1;33m.\u001b[0m\u001b[0mmain\u001b[0m\u001b[1;33m(\u001b[0m\u001b[1;33m)\u001b[0m\u001b[1;33m\u001b[0m\u001b[1;33m\u001b[0m\u001b[0m\n\u001b[0m",
      "\u001b[1;32m~\\Desktop\\projects\\udacity\\data_eng\\covid_data_review_pipeline\\etl\\etl.py\u001b[0m in \u001b[0;36mmain\u001b[1;34m()\u001b[0m\n\u001b[0;32m     36\u001b[0m     \u001b[0mcur\u001b[0m \u001b[1;33m=\u001b[0m \u001b[0mconn\u001b[0m\u001b[1;33m.\u001b[0m\u001b[0mcursor\u001b[0m\u001b[1;33m(\u001b[0m\u001b[1;33m)\u001b[0m\u001b[1;33m\u001b[0m\u001b[1;33m\u001b[0m\u001b[0m\n\u001b[0;32m     37\u001b[0m \u001b[1;33m\u001b[0m\u001b[0m\n\u001b[1;32m---> 38\u001b[1;33m     \u001b[0mload_staging_tables\u001b[0m\u001b[1;33m(\u001b[0m\u001b[0mcur\u001b[0m\u001b[1;33m,\u001b[0m \u001b[0mconn\u001b[0m\u001b[1;33m)\u001b[0m\u001b[1;33m\u001b[0m\u001b[1;33m\u001b[0m\u001b[0m\n\u001b[0m\u001b[0;32m     39\u001b[0m     \u001b[0minsert_tables\u001b[0m\u001b[1;33m(\u001b[0m\u001b[0mcur\u001b[0m\u001b[1;33m,\u001b[0m \u001b[0mconn\u001b[0m\u001b[1;33m)\u001b[0m\u001b[1;33m\u001b[0m\u001b[1;33m\u001b[0m\u001b[0m\n\u001b[0;32m     40\u001b[0m \u001b[1;33m\u001b[0m\u001b[0m\n",
      "\u001b[1;32m~\\Desktop\\projects\\udacity\\data_eng\\covid_data_review_pipeline\\etl\\etl.py\u001b[0m in \u001b[0;36mload_staging_tables\u001b[1;34m(cur, conn)\u001b[0m\n\u001b[0;32m     11\u001b[0m     \u001b[1;32mfor\u001b[0m \u001b[0mquery\u001b[0m \u001b[1;32min\u001b[0m \u001b[0mcopy_table_queries\u001b[0m\u001b[1;33m:\u001b[0m\u001b[1;33m\u001b[0m\u001b[1;33m\u001b[0m\u001b[0m\n\u001b[0;32m     12\u001b[0m         \u001b[0mprint\u001b[0m\u001b[1;33m(\u001b[0m\u001b[0mquery\u001b[0m\u001b[1;33m)\u001b[0m\u001b[1;33m\u001b[0m\u001b[1;33m\u001b[0m\u001b[0m\n\u001b[1;32m---> 13\u001b[1;33m         \u001b[0mcur\u001b[0m\u001b[1;33m.\u001b[0m\u001b[0mexecute\u001b[0m\u001b[1;33m(\u001b[0m\u001b[0mquery\u001b[0m\u001b[1;33m)\u001b[0m\u001b[1;33m\u001b[0m\u001b[1;33m\u001b[0m\u001b[0m\n\u001b[0m\u001b[0;32m     14\u001b[0m         \u001b[0mconn\u001b[0m\u001b[1;33m.\u001b[0m\u001b[0mcommit\u001b[0m\u001b[1;33m(\u001b[0m\u001b[1;33m)\u001b[0m\u001b[1;33m\u001b[0m\u001b[1;33m\u001b[0m\u001b[0m\n\u001b[0;32m     15\u001b[0m \u001b[1;33m\u001b[0m\u001b[0m\n",
      "\u001b[1;31mInternalError_\u001b[0m: Load into table 'vaccine_data' failed.  Check 'stl_load_errors' system table for details.\n"
     ]
    }
   ],
   "source": [
    "etl.main()"
   ]
  },
  {
   "cell_type": "code",
   "execution_count": null,
   "id": "enhanced-wesley",
   "metadata": {},
   "outputs": [],
   "source": []
  }
 ],
 "metadata": {
  "kernelspec": {
   "display_name": "Python 3",
   "language": "python",
   "name": "python3"
  },
  "language_info": {
   "codemirror_mode": {
    "name": "ipython",
    "version": 3
   },
   "file_extension": ".py",
   "mimetype": "text/x-python",
   "name": "python",
   "nbconvert_exporter": "python",
   "pygments_lexer": "ipython3",
   "version": "3.7.10"
  }
 },
 "nbformat": 4,
 "nbformat_minor": 5
}

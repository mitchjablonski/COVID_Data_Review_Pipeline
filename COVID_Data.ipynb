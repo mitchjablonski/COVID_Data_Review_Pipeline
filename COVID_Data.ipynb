{
 "cells": [
  {
   "cell_type": "markdown",
   "metadata": {},
   "source": [
    "# Local COVID 19 Data Collection + Review"
   ]
  },
  {
   "cell_type": "markdown",
   "metadata": {},
   "source": [
    "## Vaccine Data + Case Data"
   ]
  },
  {
   "cell_type": "markdown",
   "metadata": {},
   "source": [
    "https://github.com/owid/covid-19-data"
   ]
  },
  {
   "cell_type": "markdown",
   "metadata": {},
   "source": [
    "## Vaccine Tweet Data"
   ]
  },
  {
   "cell_type": "markdown",
   "metadata": {},
   "source": [
    "https://www.kaggle.com/kaushiksuresh147/covidvaccine-tweets"
   ]
  },
  {
   "cell_type": "markdown",
   "metadata": {},
   "source": [
    "## Vaccine Adverse Reaction Data"
   ]
  },
  {
   "cell_type": "markdown",
   "metadata": {},
   "source": [
    "https://www.kaggle.com/ayushggarg/covid19-vaccine-adverse-reactions"
   ]
  },
  {
   "cell_type": "markdown",
   "metadata": {},
   "source": [
    "## Weather Data"
   ]
  },
  {
   "cell_type": "markdown",
   "metadata": {},
   "source": [
    "https://github.com/fivethirtyeight/data.git "
   ]
  },
  {
   "cell_type": "markdown",
   "metadata": {},
   "source": [
    "File Key:\n",
    "- KCQT - Los Angeles\n",
    "- KCLT - Charlotte\n",
    "- KHOU - Houston\n",
    "- KIND - Indianapolis\n",
    "- KJAX - Jacksonville\n",
    "- KMDW - Chicago\n",
    "- KNYC - New York\n",
    "- KPHL - Philadelphia\n",
    "- KPHX - Phoenix\n",
    "- KSEA - Seattle"
   ]
  },
  {
   "cell_type": "markdown",
   "metadata": {},
   "source": [
    "## State Level Data"
   ]
  },
  {
   "cell_type": "markdown",
   "metadata": {},
   "source": [
    "https://github.com/nytimes/covid-19-data/blob/master/us-states.csv"
   ]
  },
  {
   "cell_type": "markdown",
   "metadata": {},
   "source": [
    "## COVID Related Article Data"
   ]
  },
  {
   "cell_type": "markdown",
   "metadata": {},
   "source": [
    "https://www.kaggle.com/allen-institute-for-ai/CORD-19-research-challenge?select=metadata.csv"
   ]
  },
  {
   "cell_type": "markdown",
   "metadata": {},
   "source": [
    "## Full COVID Tweets"
   ]
  },
  {
   "cell_type": "markdown",
   "metadata": {},
   "source": [
    "https://github.com/thepanacealab/covid19_twitter"
   ]
  },
  {
   "cell_type": "markdown",
   "metadata": {},
   "source": [
    "## Data Exploration"
   ]
  },
  {
   "cell_type": "code",
   "execution_count": 1,
   "metadata": {},
   "outputs": [],
   "source": [
    "import pandas as pd"
   ]
  },
  {
   "cell_type": "code",
   "execution_count": 2,
   "metadata": {},
   "outputs": [
    {
     "name": "stderr",
     "output_type": "stream",
     "text": [
      "C:\\Users\\mitch\\Anaconda3\\envs\\data_eng_tf\\lib\\site-packages\\IPython\\core\\interactiveshell.py:3166: DtypeWarning: Columns (5,6,7,12) have mixed types.Specify dtype option on import or set low_memory=False.\n",
      "  interactivity=interactivity, compiler=compiler, result=result)\n"
     ]
    }
   ],
   "source": [
    "vac_tweets = pd.read_csv('../COVID_data/vaccine_tweets/covidvaccine_tweets.csv')"
   ]
  },
  {
   "cell_type": "code",
   "execution_count": 3,
   "metadata": {},
   "outputs": [
    {
     "data": {
      "text/html": [
       "<div>\n",
       "<style scoped>\n",
       "    .dataframe tbody tr th:only-of-type {\n",
       "        vertical-align: middle;\n",
       "    }\n",
       "\n",
       "    .dataframe tbody tr th {\n",
       "        vertical-align: top;\n",
       "    }\n",
       "\n",
       "    .dataframe thead th {\n",
       "        text-align: right;\n",
       "    }\n",
       "</style>\n",
       "<table border=\"1\" class=\"dataframe\">\n",
       "  <thead>\n",
       "    <tr style=\"text-align: right;\">\n",
       "      <th></th>\n",
       "      <th>user_name</th>\n",
       "      <th>user_location</th>\n",
       "      <th>user_description</th>\n",
       "      <th>user_created</th>\n",
       "      <th>user_followers</th>\n",
       "      <th>user_friends</th>\n",
       "      <th>user_favourites</th>\n",
       "      <th>user_verified</th>\n",
       "      <th>date</th>\n",
       "      <th>text</th>\n",
       "      <th>hashtags</th>\n",
       "      <th>source</th>\n",
       "      <th>is_retweet</th>\n",
       "    </tr>\n",
       "  </thead>\n",
       "  <tbody>\n",
       "    <tr>\n",
       "      <th>0</th>\n",
       "      <td>MyNewsNE</td>\n",
       "      <td>Assam</td>\n",
       "      <td>MyNewsNE a dedicated multi-lingual media house...</td>\n",
       "      <td>24-05-2020 10:18</td>\n",
       "      <td>64.0</td>\n",
       "      <td>11.0</td>\n",
       "      <td>110.0</td>\n",
       "      <td>False</td>\n",
       "      <td>18-08-2020 12:55</td>\n",
       "      <td>Australia to Manufacture Covid-19 Vaccine and ...</td>\n",
       "      <td>['CovidVaccine']</td>\n",
       "      <td>Twitter Web App</td>\n",
       "      <td>False</td>\n",
       "    </tr>\n",
       "    <tr>\n",
       "      <th>1</th>\n",
       "      <td>Shubham Gupta</td>\n",
       "      <td>NaN</td>\n",
       "      <td>I will tell about all experiences of my life f...</td>\n",
       "      <td>14-08-2020 16:42</td>\n",
       "      <td>1.0</td>\n",
       "      <td>17.0</td>\n",
       "      <td>0.0</td>\n",
       "      <td>False</td>\n",
       "      <td>18-08-2020 12:55</td>\n",
       "      <td>#CoronavirusVaccine #CoronaVaccine #CovidVacci...</td>\n",
       "      <td>['CoronavirusVaccine', 'CoronaVaccine', 'Covid...</td>\n",
       "      <td>Twitter for Android</td>\n",
       "      <td>False</td>\n",
       "    </tr>\n",
       "    <tr>\n",
       "      <th>2</th>\n",
       "      <td>Journal of Infectiology</td>\n",
       "      <td>NaN</td>\n",
       "      <td>Journal of Infectiology (ISSN 2689-9981) is ac...</td>\n",
       "      <td>14-12-2017 07:07</td>\n",
       "      <td>143.0</td>\n",
       "      <td>566.0</td>\n",
       "      <td>8.0</td>\n",
       "      <td>False</td>\n",
       "      <td>18-08-2020 12:46</td>\n",
       "      <td>Deaths due to COVID-19 in Affected Countries\\n...</td>\n",
       "      <td>NaN</td>\n",
       "      <td>Twitter Web App</td>\n",
       "      <td>False</td>\n",
       "    </tr>\n",
       "    <tr>\n",
       "      <th>3</th>\n",
       "      <td>Zane</td>\n",
       "      <td>NaN</td>\n",
       "      <td>Fresher than you.</td>\n",
       "      <td>18-09-2019 11:01</td>\n",
       "      <td>29.0</td>\n",
       "      <td>25.0</td>\n",
       "      <td>620.0</td>\n",
       "      <td>False</td>\n",
       "      <td>18-08-2020 12:45</td>\n",
       "      <td>@Team_Subhashree @subhashreesotwe @iamrajchoco...</td>\n",
       "      <td>NaN</td>\n",
       "      <td>Twitter for Android</td>\n",
       "      <td>False</td>\n",
       "    </tr>\n",
       "    <tr>\n",
       "      <th>4</th>\n",
       "      <td>Ann-Maree O’Connor</td>\n",
       "      <td>Adelaide, South Australia</td>\n",
       "      <td>Retired university administrator. Melburnian b...</td>\n",
       "      <td>24-01-2013 14:53</td>\n",
       "      <td>83.0</td>\n",
       "      <td>497.0</td>\n",
       "      <td>10737.0</td>\n",
       "      <td>False</td>\n",
       "      <td>18-08-2020 12:45</td>\n",
       "      <td>@michellegrattan @ConversationEDU This is what...</td>\n",
       "      <td>NaN</td>\n",
       "      <td>Twitter Web App</td>\n",
       "      <td>False</td>\n",
       "    </tr>\n",
       "  </tbody>\n",
       "</table>\n",
       "</div>"
      ],
      "text/plain": [
       "                 user_name              user_location  \\\n",
       "0                 MyNewsNE                      Assam   \n",
       "1            Shubham Gupta                        NaN   \n",
       "2  Journal of Infectiology                        NaN   \n",
       "3                     Zane                        NaN   \n",
       "4       Ann-Maree O’Connor  Adelaide, South Australia   \n",
       "\n",
       "                                    user_description      user_created  \\\n",
       "0  MyNewsNE a dedicated multi-lingual media house...  24-05-2020 10:18   \n",
       "1  I will tell about all experiences of my life f...  14-08-2020 16:42   \n",
       "2  Journal of Infectiology (ISSN 2689-9981) is ac...  14-12-2017 07:07   \n",
       "3                                  Fresher than you.  18-09-2019 11:01   \n",
       "4  Retired university administrator. Melburnian b...  24-01-2013 14:53   \n",
       "\n",
       "   user_followers user_friends user_favourites user_verified  \\\n",
       "0            64.0         11.0           110.0         False   \n",
       "1             1.0         17.0             0.0         False   \n",
       "2           143.0        566.0             8.0         False   \n",
       "3            29.0         25.0           620.0         False   \n",
       "4            83.0        497.0         10737.0         False   \n",
       "\n",
       "               date                                               text  \\\n",
       "0  18-08-2020 12:55  Australia to Manufacture Covid-19 Vaccine and ...   \n",
       "1  18-08-2020 12:55  #CoronavirusVaccine #CoronaVaccine #CovidVacci...   \n",
       "2  18-08-2020 12:46  Deaths due to COVID-19 in Affected Countries\\n...   \n",
       "3  18-08-2020 12:45  @Team_Subhashree @subhashreesotwe @iamrajchoco...   \n",
       "4  18-08-2020 12:45  @michellegrattan @ConversationEDU This is what...   \n",
       "\n",
       "                                            hashtags               source  \\\n",
       "0                                   ['CovidVaccine']      Twitter Web App   \n",
       "1  ['CoronavirusVaccine', 'CoronaVaccine', 'Covid...  Twitter for Android   \n",
       "2                                                NaN      Twitter Web App   \n",
       "3                                                NaN  Twitter for Android   \n",
       "4                                                NaN      Twitter Web App   \n",
       "\n",
       "  is_retweet  \n",
       "0      False  \n",
       "1      False  \n",
       "2      False  \n",
       "3      False  \n",
       "4      False  "
      ]
     },
     "execution_count": 3,
     "metadata": {},
     "output_type": "execute_result"
    }
   ],
   "source": [
    "vac_tweets.head()"
   ]
  },
  {
   "cell_type": "code",
   "execution_count": 4,
   "metadata": {},
   "outputs": [
    {
     "data": {
      "text/plain": [
       "(161251, 13)"
      ]
     },
     "execution_count": 4,
     "metadata": {},
     "output_type": "execute_result"
    }
   ],
   "source": [
    "vac_tweets.shape"
   ]
  },
  {
   "cell_type": "markdown",
   "metadata": {},
   "source": [
    "## Look at distribution of text length"
   ]
  },
  {
   "cell_type": "code",
   "execution_count": 5,
   "metadata": {},
   "outputs": [
    {
     "data": {
      "text/plain": [
       "<AxesSubplot:>"
      ]
     },
     "execution_count": 5,
     "metadata": {},
     "output_type": "execute_result"
    },
    {
     "data": {
      "image/png": "[encoded data removed]",
      "text/plain": [
       "<Figure size 432x288 with 1 Axes>"
      ]
     },
     "metadata": {
      "needs_background": "light"
     },
     "output_type": "display_data"
    }
   ],
   "source": [
    "vac_tweets['text'].astype(str).apply(lambda x: len(x)).hist()"
   ]
  },
  {
   "cell_type": "markdown",
   "metadata": {},
   "source": [
    "## Distribution of hash tags"
   ]
  },
  {
   "cell_type": "code",
   "execution_count": 6,
   "metadata": {},
   "outputs": [
    {
     "data": {
      "text/plain": [
       "<AxesSubplot:>"
      ]
     },
     "execution_count": 6,
     "metadata": {},
     "output_type": "execute_result"
    },
    {
     "data": {
      "image/png": "[encoded data removed]",
      "text/plain": [
       "<Figure size 432x288 with 1 Axes>"
      ]
     },
     "metadata": {
      "needs_background": "light"
     },
     "output_type": "display_data"
    }
   ],
   "source": [
    "import numpy as np\n",
    "vac_tweets['hashtags'].apply(lambda x: len(x) if x is not np.nan else 0).hist()"
   ]
  },
  {
   "cell_type": "markdown",
   "metadata": {},
   "source": [
    "## Where are our users tweeting from?"
   ]
  },
  {
   "cell_type": "code",
   "execution_count": 7,
   "metadata": {},
   "outputs": [
    {
     "data": {
      "text/plain": [
       "<AxesSubplot:>"
      ]
     },
     "execution_count": 7,
     "metadata": {},
     "output_type": "execute_result"
    },
    {
     "data": {
      "image/png": "[encoded data removed]",
      "text/plain": [
       "<Figure size 432x288 with 1 Axes>"
      ]
     },
     "metadata": {
      "needs_background": "light"
     },
     "output_type": "display_data"
    }
   ],
   "source": [
    "vac_tweets['source'].value_counts()[:10].plot.bar()"
   ]
  },
  {
   "cell_type": "code",
   "execution_count": 8,
   "metadata": {},
   "outputs": [
    {
     "data": {
      "text/plain": [
       "<AxesSubplot:>"
      ]
     },
     "execution_count": 8,
     "metadata": {},
     "output_type": "execute_result"
    },
    {
     "data": {
      "image/png": "[encoded data removed]",
      "text/plain": [
       "<Figure size 432x288 with 1 Axes>"
      ]
     },
     "metadata": {
      "needs_background": "light"
     },
     "output_type": "display_data"
    }
   ],
   "source": [
    "vac_tweets['source'].value_counts()[-10:].plot.bar()"
   ]
  },
  {
   "cell_type": "markdown",
   "metadata": {},
   "source": [
    "## Vaccine response data"
   ]
  },
  {
   "cell_type": "code",
   "execution_count": 9,
   "metadata": {},
   "outputs": [
    {
     "name": "stdout",
     "output_type": "stream",
     "text": [
      "Windows-1252\n"
     ]
    }
   ],
   "source": [
    "import chardet    \n",
    "rawdata = open('../COVID_data/vaccine_response_data/2021VAERSDATA.csv', 'rb').read()\n",
    "result = chardet.detect(rawdata)\n",
    "charenc = result['encoding']\n",
    "print(charenc)"
   ]
  },
  {
   "cell_type": "code",
   "execution_count": 10,
   "metadata": {},
   "outputs": [],
   "source": [
    "vaers_data = pd.read_csv('../COVID_data/vaccine_response_data/2021VAERSDATA.csv', encoding=charenc)"
   ]
  },
  {
   "cell_type": "code",
   "execution_count": 11,
   "metadata": {},
   "outputs": [
    {
     "data": {
      "text/html": [
       "<div>\n",
       "<style scoped>\n",
       "    .dataframe tbody tr th:only-of-type {\n",
       "        vertical-align: middle;\n",
       "    }\n",
       "\n",
       "    .dataframe tbody tr th {\n",
       "        vertical-align: top;\n",
       "    }\n",
       "\n",
       "    .dataframe thead th {\n",
       "        text-align: right;\n",
       "    }\n",
       "</style>\n",
       "<table border=\"1\" class=\"dataframe\">\n",
       "  <thead>\n",
       "    <tr style=\"text-align: right;\">\n",
       "      <th></th>\n",
       "      <th>VAERS_ID</th>\n",
       "      <th>RECVDATE</th>\n",
       "      <th>STATE</th>\n",
       "      <th>AGE_YRS</th>\n",
       "      <th>CAGE_YR</th>\n",
       "      <th>CAGE_MO</th>\n",
       "      <th>SEX</th>\n",
       "      <th>RPT_DATE</th>\n",
       "      <th>SYMPTOM_TEXT</th>\n",
       "      <th>DIED</th>\n",
       "      <th>...</th>\n",
       "      <th>CUR_ILL</th>\n",
       "      <th>HISTORY</th>\n",
       "      <th>PRIOR_VAX</th>\n",
       "      <th>SPLTTYPE</th>\n",
       "      <th>FORM_VERS</th>\n",
       "      <th>TODAYS_DATE</th>\n",
       "      <th>BIRTH_DEFECT</th>\n",
       "      <th>OFC_VISIT</th>\n",
       "      <th>ER_ED_VISIT</th>\n",
       "      <th>ALLERGIES</th>\n",
       "    </tr>\n",
       "  </thead>\n",
       "  <tbody>\n",
       "    <tr>\n",
       "      <th>0</th>\n",
       "      <td>916710</td>\n",
       "      <td>01/01/2021</td>\n",
       "      <td>MO</td>\n",
       "      <td>23.0</td>\n",
       "      <td>23.0</td>\n",
       "      <td>NaN</td>\n",
       "      <td>F</td>\n",
       "      <td>NaN</td>\n",
       "      <td>Acute appendicitis, onset morning of 1/1/2021 ...</td>\n",
       "      <td>NaN</td>\n",
       "      <td>...</td>\n",
       "      <td>NaN</td>\n",
       "      <td>Hypothyroidism</td>\n",
       "      <td>NaN</td>\n",
       "      <td>NaN</td>\n",
       "      <td>2</td>\n",
       "      <td>01/01/2021</td>\n",
       "      <td>NaN</td>\n",
       "      <td>NaN</td>\n",
       "      <td>Y</td>\n",
       "      <td>NKDA</td>\n",
       "    </tr>\n",
       "    <tr>\n",
       "      <th>1</th>\n",
       "      <td>916720</td>\n",
       "      <td>01/01/2021</td>\n",
       "      <td>NY</td>\n",
       "      <td>23.0</td>\n",
       "      <td>23.0</td>\n",
       "      <td>NaN</td>\n",
       "      <td>M</td>\n",
       "      <td>NaN</td>\n",
       "      <td>Patient made statements that he was having a h...</td>\n",
       "      <td>NaN</td>\n",
       "      <td>...</td>\n",
       "      <td>NaN</td>\n",
       "      <td>NaN</td>\n",
       "      <td>unknown</td>\n",
       "      <td>NaN</td>\n",
       "      <td>2</td>\n",
       "      <td>01/01/2021</td>\n",
       "      <td>NaN</td>\n",
       "      <td>NaN</td>\n",
       "      <td>Y</td>\n",
       "      <td>NaN</td>\n",
       "    </tr>\n",
       "    <tr>\n",
       "      <th>2</th>\n",
       "      <td>916741</td>\n",
       "      <td>01/01/2021</td>\n",
       "      <td>AR</td>\n",
       "      <td>68.0</td>\n",
       "      <td>68.0</td>\n",
       "      <td>NaN</td>\n",
       "      <td>F</td>\n",
       "      <td>NaN</td>\n",
       "      <td>on dec 22 I felt some myalgias, chills, fatigu...</td>\n",
       "      <td>NaN</td>\n",
       "      <td>...</td>\n",
       "      <td>had surgery R hand for advanced arthritis 11/1...</td>\n",
       "      <td>Rheumatoid arthritis - mostly affecting R wris...</td>\n",
       "      <td>NaN</td>\n",
       "      <td>NaN</td>\n",
       "      <td>2</td>\n",
       "      <td>01/01/2021</td>\n",
       "      <td>NaN</td>\n",
       "      <td>NaN</td>\n",
       "      <td>NaN</td>\n",
       "      <td>bee stings</td>\n",
       "    </tr>\n",
       "    <tr>\n",
       "      <th>3</th>\n",
       "      <td>916772</td>\n",
       "      <td>01/01/2021</td>\n",
       "      <td>GA</td>\n",
       "      <td>55.0</td>\n",
       "      <td>55.0</td>\n",
       "      <td>NaN</td>\n",
       "      <td>M</td>\n",
       "      <td>NaN</td>\n",
       "      <td>Vaccine on 12/22/2020 and started feeling bad ...</td>\n",
       "      <td>NaN</td>\n",
       "      <td>...</td>\n",
       "      <td>NaN</td>\n",
       "      <td>HTN, Insomnia,High Cholesterol,</td>\n",
       "      <td>NaN</td>\n",
       "      <td>NaN</td>\n",
       "      <td>2</td>\n",
       "      <td>01/01/2021</td>\n",
       "      <td>NaN</td>\n",
       "      <td>Y</td>\n",
       "      <td>NaN</td>\n",
       "      <td>Codeine</td>\n",
       "    </tr>\n",
       "    <tr>\n",
       "      <th>4</th>\n",
       "      <td>916790</td>\n",
       "      <td>01/01/2021</td>\n",
       "      <td>TN</td>\n",
       "      <td>52.0</td>\n",
       "      <td>52.0</td>\n",
       "      <td>NaN</td>\n",
       "      <td>F</td>\n",
       "      <td>NaN</td>\n",
       "      <td>Flushing, sweating, increased heart rate proce...</td>\n",
       "      <td>NaN</td>\n",
       "      <td>...</td>\n",
       "      <td>NaN</td>\n",
       "      <td>Asthma, migraines</td>\n",
       "      <td>NaN</td>\n",
       "      <td>NaN</td>\n",
       "      <td>2</td>\n",
       "      <td>01/01/2021</td>\n",
       "      <td>NaN</td>\n",
       "      <td>NaN</td>\n",
       "      <td>Y</td>\n",
       "      <td>Sulfa, shellfish</td>\n",
       "    </tr>\n",
       "    <tr>\n",
       "      <th>...</th>\n",
       "      <td>...</td>\n",
       "      <td>...</td>\n",
       "      <td>...</td>\n",
       "      <td>...</td>\n",
       "      <td>...</td>\n",
       "      <td>...</td>\n",
       "      <td>...</td>\n",
       "      <td>...</td>\n",
       "      <td>...</td>\n",
       "      <td>...</td>\n",
       "      <td>...</td>\n",
       "      <td>...</td>\n",
       "      <td>...</td>\n",
       "      <td>...</td>\n",
       "      <td>...</td>\n",
       "      <td>...</td>\n",
       "      <td>...</td>\n",
       "      <td>...</td>\n",
       "      <td>...</td>\n",
       "      <td>...</td>\n",
       "      <td>...</td>\n",
       "    </tr>\n",
       "    <tr>\n",
       "      <th>5346</th>\n",
       "      <td>1024788</td>\n",
       "      <td>02/11/2021</td>\n",
       "      <td>MO</td>\n",
       "      <td>90.0</td>\n",
       "      <td>90.0</td>\n",
       "      <td>NaN</td>\n",
       "      <td>F</td>\n",
       "      <td>NaN</td>\n",
       "      <td>Pt had passed away before second dose given.</td>\n",
       "      <td>Y</td>\n",
       "      <td>...</td>\n",
       "      <td>NaN</td>\n",
       "      <td>NaN</td>\n",
       "      <td>NaN</td>\n",
       "      <td>NaN</td>\n",
       "      <td>2</td>\n",
       "      <td>02/11/2021</td>\n",
       "      <td>NaN</td>\n",
       "      <td>NaN</td>\n",
       "      <td>NaN</td>\n",
       "      <td>NaN</td>\n",
       "    </tr>\n",
       "    <tr>\n",
       "      <th>5347</th>\n",
       "      <td>1024790</td>\n",
       "      <td>02/11/2021</td>\n",
       "      <td>MO</td>\n",
       "      <td>91.0</td>\n",
       "      <td>91.0</td>\n",
       "      <td>NaN</td>\n",
       "      <td>F</td>\n",
       "      <td>NaN</td>\n",
       "      <td>Pt had passed away before second dose given.</td>\n",
       "      <td>Y</td>\n",
       "      <td>...</td>\n",
       "      <td>NaN</td>\n",
       "      <td>NaN</td>\n",
       "      <td>NaN</td>\n",
       "      <td>NaN</td>\n",
       "      <td>2</td>\n",
       "      <td>02/11/2021</td>\n",
       "      <td>NaN</td>\n",
       "      <td>NaN</td>\n",
       "      <td>NaN</td>\n",
       "      <td>NaN</td>\n",
       "    </tr>\n",
       "    <tr>\n",
       "      <th>5348</th>\n",
       "      <td>1024795</td>\n",
       "      <td>02/11/2021</td>\n",
       "      <td>MO</td>\n",
       "      <td>86.0</td>\n",
       "      <td>86.0</td>\n",
       "      <td>NaN</td>\n",
       "      <td>F</td>\n",
       "      <td>NaN</td>\n",
       "      <td>Pt had passed away before second dose given.</td>\n",
       "      <td>Y</td>\n",
       "      <td>...</td>\n",
       "      <td>NaN</td>\n",
       "      <td>NaN</td>\n",
       "      <td>NaN</td>\n",
       "      <td>NaN</td>\n",
       "      <td>2</td>\n",
       "      <td>02/11/2021</td>\n",
       "      <td>NaN</td>\n",
       "      <td>NaN</td>\n",
       "      <td>NaN</td>\n",
       "      <td>NaN</td>\n",
       "    </tr>\n",
       "    <tr>\n",
       "      <th>5349</th>\n",
       "      <td>1024817</td>\n",
       "      <td>02/11/2021</td>\n",
       "      <td>GU</td>\n",
       "      <td>68.0</td>\n",
       "      <td>68.0</td>\n",
       "      <td>NaN</td>\n",
       "      <td>M</td>\n",
       "      <td>NaN</td>\n",
       "      <td>Patient was coded and expired Code Blue:  Pati...</td>\n",
       "      <td>Y</td>\n",
       "      <td>...</td>\n",
       "      <td>NIDDM, HTN, CAD s/p CABG x4v, liver cirrhosis,...</td>\n",
       "      <td>social history of alcohol abuse</td>\n",
       "      <td>NaN</td>\n",
       "      <td>NaN</td>\n",
       "      <td>2</td>\n",
       "      <td>02/11/2021</td>\n",
       "      <td>NaN</td>\n",
       "      <td>NaN</td>\n",
       "      <td>NaN</td>\n",
       "      <td>Ampicillin sodium</td>\n",
       "    </tr>\n",
       "    <tr>\n",
       "      <th>5350</th>\n",
       "      <td>1024853</td>\n",
       "      <td>02/11/2021</td>\n",
       "      <td>MA</td>\n",
       "      <td>78.0</td>\n",
       "      <td>78.0</td>\n",
       "      <td>NaN</td>\n",
       "      <td>F</td>\n",
       "      <td>NaN</td>\n",
       "      <td>Feb 8 states she had a cold. Feb 9 added stoma...</td>\n",
       "      <td>Y</td>\n",
       "      <td>...</td>\n",
       "      <td>Essential Thrombocytopemia Alzheimer?s</td>\n",
       "      <td>Essential Thrombocytopemia Alzheimer?s</td>\n",
       "      <td>NaN</td>\n",
       "      <td>NaN</td>\n",
       "      <td>2</td>\n",
       "      <td>02/11/2021</td>\n",
       "      <td>NaN</td>\n",
       "      <td>NaN</td>\n",
       "      <td>NaN</td>\n",
       "      <td>None</td>\n",
       "    </tr>\n",
       "  </tbody>\n",
       "</table>\n",
       "<p>5351 rows × 35 columns</p>\n",
       "</div>"
      ],
      "text/plain": [
       "      VAERS_ID    RECVDATE STATE  AGE_YRS  CAGE_YR  CAGE_MO SEX RPT_DATE  \\\n",
       "0       916710  01/01/2021    MO     23.0     23.0      NaN   F      NaN   \n",
       "1       916720  01/01/2021    NY     23.0     23.0      NaN   M      NaN   \n",
       "2       916741  01/01/2021    AR     68.0     68.0      NaN   F      NaN   \n",
       "3       916772  01/01/2021    GA     55.0     55.0      NaN   M      NaN   \n",
       "4       916790  01/01/2021    TN     52.0     52.0      NaN   F      NaN   \n",
       "...        ...         ...   ...      ...      ...      ...  ..      ...   \n",
       "5346   1024788  02/11/2021    MO     90.0     90.0      NaN   F      NaN   \n",
       "5347   1024790  02/11/2021    MO     91.0     91.0      NaN   F      NaN   \n",
       "5348   1024795  02/11/2021    MO     86.0     86.0      NaN   F      NaN   \n",
       "5349   1024817  02/11/2021    GU     68.0     68.0      NaN   M      NaN   \n",
       "5350   1024853  02/11/2021    MA     78.0     78.0      NaN   F      NaN   \n",
       "\n",
       "                                           SYMPTOM_TEXT DIED  ...  \\\n",
       "0     Acute appendicitis, onset morning of 1/1/2021 ...  NaN  ...   \n",
       "1     Patient made statements that he was having a h...  NaN  ...   \n",
       "2     on dec 22 I felt some myalgias, chills, fatigu...  NaN  ...   \n",
       "3     Vaccine on 12/22/2020 and started feeling bad ...  NaN  ...   \n",
       "4     Flushing, sweating, increased heart rate proce...  NaN  ...   \n",
       "...                                                 ...  ...  ...   \n",
       "5346       Pt had passed away before second dose given.    Y  ...   \n",
       "5347       Pt had passed away before second dose given.    Y  ...   \n",
       "5348       Pt had passed away before second dose given.    Y  ...   \n",
       "5349  Patient was coded and expired Code Blue:  Pati...    Y  ...   \n",
       "5350  Feb 8 states she had a cold. Feb 9 added stoma...    Y  ...   \n",
       "\n",
       "                                                CUR_ILL  \\\n",
       "0                                                   NaN   \n",
       "1                                                   NaN   \n",
       "2     had surgery R hand for advanced arthritis 11/1...   \n",
       "3                                                   NaN   \n",
       "4                                                   NaN   \n",
       "...                                                 ...   \n",
       "5346                                                NaN   \n",
       "5347                                                NaN   \n",
       "5348                                                NaN   \n",
       "5349  NIDDM, HTN, CAD s/p CABG x4v, liver cirrhosis,...   \n",
       "5350             Essential Thrombocytopemia Alzheimer?s   \n",
       "\n",
       "                                                HISTORY PRIOR_VAX SPLTTYPE  \\\n",
       "0                                        Hypothyroidism       NaN      NaN   \n",
       "1                                                   NaN   unknown      NaN   \n",
       "2     Rheumatoid arthritis - mostly affecting R wris...       NaN      NaN   \n",
       "3                       HTN, Insomnia,High Cholesterol,       NaN      NaN   \n",
       "4                                     Asthma, migraines       NaN      NaN   \n",
       "...                                                 ...       ...      ...   \n",
       "5346                                                NaN       NaN      NaN   \n",
       "5347                                                NaN       NaN      NaN   \n",
       "5348                                                NaN       NaN      NaN   \n",
       "5349                    social history of alcohol abuse       NaN      NaN   \n",
       "5350             Essential Thrombocytopemia Alzheimer?s       NaN      NaN   \n",
       "\n",
       "      FORM_VERS TODAYS_DATE BIRTH_DEFECT OFC_VISIT ER_ED_VISIT  \\\n",
       "0             2  01/01/2021          NaN       NaN           Y   \n",
       "1             2  01/01/2021          NaN       NaN           Y   \n",
       "2             2  01/01/2021          NaN       NaN         NaN   \n",
       "3             2  01/01/2021          NaN         Y         NaN   \n",
       "4             2  01/01/2021          NaN       NaN           Y   \n",
       "...         ...         ...          ...       ...         ...   \n",
       "5346          2  02/11/2021          NaN       NaN         NaN   \n",
       "5347          2  02/11/2021          NaN       NaN         NaN   \n",
       "5348          2  02/11/2021          NaN       NaN         NaN   \n",
       "5349          2  02/11/2021          NaN       NaN         NaN   \n",
       "5350          2  02/11/2021          NaN       NaN         NaN   \n",
       "\n",
       "              ALLERGIES  \n",
       "0                  NKDA  \n",
       "1                   NaN  \n",
       "2            bee stings  \n",
       "3               Codeine  \n",
       "4      Sulfa, shellfish  \n",
       "...                 ...  \n",
       "5346                NaN  \n",
       "5347                NaN  \n",
       "5348                NaN  \n",
       "5349  Ampicillin sodium  \n",
       "5350               None  \n",
       "\n",
       "[5351 rows x 35 columns]"
      ]
     },
     "execution_count": 11,
     "metadata": {},
     "output_type": "execute_result"
    }
   ],
   "source": [
    "vaers_data"
   ]
  },
  {
   "cell_type": "code",
   "execution_count": 12,
   "metadata": {},
   "outputs": [
    {
     "data": {
      "text/plain": [
       "None                                                                                              242\n",
       "Comments: List of non-encoded Patient Relevant History: Patient Other Relevant History 1: None    200\n",
       "none                                                                                              109\n",
       "Comments: List of non-encoded Patient Relevant History: Patient Other Relevant History 1: none     40\n",
       "Asthma                                                                                             32\n",
       "Name: HISTORY, dtype: int64"
      ]
     },
     "execution_count": 12,
     "metadata": {},
     "output_type": "execute_result"
    }
   ],
   "source": [
    "vaers_data['HISTORY'].value_counts()[:5]"
   ]
  },
  {
   "cell_type": "code",
   "execution_count": 13,
   "metadata": {},
   "outputs": [
    {
     "data": {
      "text/plain": [
       "CA    401\n",
       "FL    327\n",
       "NY    287\n",
       "TX    270\n",
       "PA    176\n",
       "MA    169\n",
       "MI    163\n",
       "OH    151\n",
       "IL    148\n",
       "NC    147\n",
       "Name: STATE, dtype: int64"
      ]
     },
     "execution_count": 13,
     "metadata": {},
     "output_type": "execute_result"
    }
   ],
   "source": [
    "vaers_data['STATE'].value_counts()[:10]"
   ]
  },
  {
   "cell_type": "code",
   "execution_count": 14,
   "metadata": {},
   "outputs": [
    {
     "data": {
      "text/plain": [
       "50.00     89\n",
       "39.00     85\n",
       "40.00     84\n",
       "58.00     78\n",
       "65.00     78\n",
       "          ..\n",
       "9.00       1\n",
       "7.00       1\n",
       "104.00     1\n",
       "1.42       1\n",
       "4.00       1\n",
       "Name: AGE_YRS, Length: 99, dtype: int64"
      ]
     },
     "execution_count": 14,
     "metadata": {},
     "output_type": "execute_result"
    }
   ],
   "source": [
    "vaers_data['AGE_YRS'].value_counts()"
   ]
  },
  {
   "cell_type": "code",
   "execution_count": 15,
   "metadata": {},
   "outputs": [
    {
     "data": {
      "text/plain": [
       "F    3358\n",
       "M    1681\n",
       "U     312\n",
       "Name: SEX, dtype: int64"
      ]
     },
     "execution_count": 15,
     "metadata": {},
     "output_type": "execute_result"
    }
   ],
   "source": [
    "vaers_data['SEX'].value_counts()"
   ]
  },
  {
   "cell_type": "code",
   "execution_count": 16,
   "metadata": {},
   "outputs": [
    {
     "data": {
      "text/plain": [
       "Y    0.151374\n",
       "Name: DIED, dtype: float64"
      ]
     },
     "execution_count": 16,
     "metadata": {},
     "output_type": "execute_result"
    }
   ],
   "source": [
    "vaers_data['DIED'].value_counts() /vaers_data.shape[0]"
   ]
  },
  {
   "cell_type": "code",
   "execution_count": 17,
   "metadata": {},
   "outputs": [
    {
     "data": {
      "text/plain": [
       "nan                   2872\n",
       "None                   315\n",
       "none                   161\n",
       "NKA                    132\n",
       "NKDA                   122\n",
       "Penicillin              58\n",
       "No known allergies      51\n",
       "No                      35\n",
       "unknown                 33\n",
       "PCN                     33\n",
       "Name: ALLERGIES, dtype: int64"
      ]
     },
     "execution_count": 17,
     "metadata": {},
     "output_type": "execute_result"
    }
   ],
   "source": [
    "vaers_data['ALLERGIES'].astype(str).apply(lambda x: x.split(',')).explode().value_counts()[:10]"
   ]
  },
  {
   "cell_type": "code",
   "execution_count": 18,
   "metadata": {},
   "outputs": [],
   "source": [
    "vaers_symps_data = pd.read_csv('../COVID_data/vaccine_response_data/2021VAERSSYMPTOMS.csv', encoding=charenc)"
   ]
  },
  {
   "cell_type": "code",
   "execution_count": 19,
   "metadata": {},
   "outputs": [
    {
     "data": {
      "text/html": [
       "<div>\n",
       "<style scoped>\n",
       "    .dataframe tbody tr th:only-of-type {\n",
       "        vertical-align: middle;\n",
       "    }\n",
       "\n",
       "    .dataframe tbody tr th {\n",
       "        vertical-align: top;\n",
       "    }\n",
       "\n",
       "    .dataframe thead th {\n",
       "        text-align: right;\n",
       "    }\n",
       "</style>\n",
       "<table border=\"1\" class=\"dataframe\">\n",
       "  <thead>\n",
       "    <tr style=\"text-align: right;\">\n",
       "      <th></th>\n",
       "      <th>VAERS_ID</th>\n",
       "      <th>SYMPTOM1</th>\n",
       "      <th>SYMPTOMVERSION1</th>\n",
       "      <th>SYMPTOM2</th>\n",
       "      <th>SYMPTOMVERSION2</th>\n",
       "      <th>SYMPTOM3</th>\n",
       "      <th>SYMPTOMVERSION3</th>\n",
       "      <th>SYMPTOM4</th>\n",
       "      <th>SYMPTOMVERSION4</th>\n",
       "      <th>SYMPTOM5</th>\n",
       "      <th>SYMPTOMVERSION5</th>\n",
       "    </tr>\n",
       "  </thead>\n",
       "  <tbody>\n",
       "    <tr>\n",
       "      <th>0</th>\n",
       "      <td>916710</td>\n",
       "      <td>Appendicitis</td>\n",
       "      <td>23.1</td>\n",
       "      <td>Band neutrophil percentage increased</td>\n",
       "      <td>23.1</td>\n",
       "      <td>Surgery</td>\n",
       "      <td>23.1</td>\n",
       "      <td>White blood cell count increased</td>\n",
       "      <td>23.1</td>\n",
       "      <td>NaN</td>\n",
       "      <td>NaN</td>\n",
       "    </tr>\n",
       "    <tr>\n",
       "      <th>1</th>\n",
       "      <td>916720</td>\n",
       "      <td>Dysphagia</td>\n",
       "      <td>23.1</td>\n",
       "      <td>Dyspnoea</td>\n",
       "      <td>23.1</td>\n",
       "      <td>NaN</td>\n",
       "      <td>NaN</td>\n",
       "      <td>NaN</td>\n",
       "      <td>NaN</td>\n",
       "      <td>NaN</td>\n",
       "      <td>NaN</td>\n",
       "    </tr>\n",
       "    <tr>\n",
       "      <th>2</th>\n",
       "      <td>916741</td>\n",
       "      <td>Chills</td>\n",
       "      <td>23.1</td>\n",
       "      <td>Complex regional pain syndrome</td>\n",
       "      <td>23.1</td>\n",
       "      <td>Fatigue</td>\n",
       "      <td>23.1</td>\n",
       "      <td>Headache</td>\n",
       "      <td>23.1</td>\n",
       "      <td>Joint range of motion decreased</td>\n",
       "      <td>23.1</td>\n",
       "    </tr>\n",
       "    <tr>\n",
       "      <th>3</th>\n",
       "      <td>916741</td>\n",
       "      <td>Myalgia</td>\n",
       "      <td>23.1</td>\n",
       "      <td>Pain in extremity</td>\n",
       "      <td>23.1</td>\n",
       "      <td>Peripheral swelling</td>\n",
       "      <td>23.1</td>\n",
       "      <td>X-ray abnormal</td>\n",
       "      <td>23.1</td>\n",
       "      <td>NaN</td>\n",
       "      <td>NaN</td>\n",
       "    </tr>\n",
       "    <tr>\n",
       "      <th>4</th>\n",
       "      <td>916772</td>\n",
       "      <td>Feeling abnormal</td>\n",
       "      <td>23.1</td>\n",
       "      <td>SARS-CoV-2 test positive</td>\n",
       "      <td>23.1</td>\n",
       "      <td>NaN</td>\n",
       "      <td>NaN</td>\n",
       "      <td>NaN</td>\n",
       "      <td>NaN</td>\n",
       "      <td>NaN</td>\n",
       "      <td>NaN</td>\n",
       "    </tr>\n",
       "    <tr>\n",
       "      <th>...</th>\n",
       "      <td>...</td>\n",
       "      <td>...</td>\n",
       "      <td>...</td>\n",
       "      <td>...</td>\n",
       "      <td>...</td>\n",
       "      <td>...</td>\n",
       "      <td>...</td>\n",
       "      <td>...</td>\n",
       "      <td>...</td>\n",
       "      <td>...</td>\n",
       "      <td>...</td>\n",
       "    </tr>\n",
       "    <tr>\n",
       "      <th>8635</th>\n",
       "      <td>1024817</td>\n",
       "      <td>Aspiration</td>\n",
       "      <td>23.1</td>\n",
       "      <td>Blood pressure systolic decreased</td>\n",
       "      <td>23.1</td>\n",
       "      <td>Cardio-respiratory arrest</td>\n",
       "      <td>23.1</td>\n",
       "      <td>Death</td>\n",
       "      <td>23.1</td>\n",
       "      <td>Dialysis</td>\n",
       "      <td>23.1</td>\n",
       "    </tr>\n",
       "    <tr>\n",
       "      <th>8636</th>\n",
       "      <td>1024817</td>\n",
       "      <td>Endotracheal intubation</td>\n",
       "      <td>23.1</td>\n",
       "      <td>Gastrointestinal haemorrhage</td>\n",
       "      <td>23.1</td>\n",
       "      <td>Mechanical ventilation</td>\n",
       "      <td>23.1</td>\n",
       "      <td>Pulse absent</td>\n",
       "      <td>23.1</td>\n",
       "      <td>Pulseless electrical activity</td>\n",
       "      <td>23.1</td>\n",
       "    </tr>\n",
       "    <tr>\n",
       "      <th>8637</th>\n",
       "      <td>1024817</td>\n",
       "      <td>Respiratory arrest</td>\n",
       "      <td>23.1</td>\n",
       "      <td>Resuscitation</td>\n",
       "      <td>23.1</td>\n",
       "      <td>Seizure like phenomena</td>\n",
       "      <td>23.1</td>\n",
       "      <td>Unresponsive to stimuli</td>\n",
       "      <td>23.1</td>\n",
       "      <td>Ventricular fibrillation</td>\n",
       "      <td>23.1</td>\n",
       "    </tr>\n",
       "    <tr>\n",
       "      <th>8638</th>\n",
       "      <td>1024853</td>\n",
       "      <td>Abdominal pain upper</td>\n",
       "      <td>23.1</td>\n",
       "      <td>Aspiration</td>\n",
       "      <td>23.1</td>\n",
       "      <td>Death</td>\n",
       "      <td>23.1</td>\n",
       "      <td>Fatigue</td>\n",
       "      <td>23.1</td>\n",
       "      <td>Haemorrhage</td>\n",
       "      <td>23.1</td>\n",
       "    </tr>\n",
       "    <tr>\n",
       "      <th>8639</th>\n",
       "      <td>1024853</td>\n",
       "      <td>Nasopharyngitis</td>\n",
       "      <td>23.1</td>\n",
       "      <td>Nausea</td>\n",
       "      <td>23.1</td>\n",
       "      <td>SARS-CoV-2 test negative</td>\n",
       "      <td>23.1</td>\n",
       "      <td>NaN</td>\n",
       "      <td>NaN</td>\n",
       "      <td>NaN</td>\n",
       "      <td>NaN</td>\n",
       "    </tr>\n",
       "  </tbody>\n",
       "</table>\n",
       "<p>8640 rows × 11 columns</p>\n",
       "</div>"
      ],
      "text/plain": [
       "      VAERS_ID                 SYMPTOM1  SYMPTOMVERSION1  \\\n",
       "0       916710             Appendicitis             23.1   \n",
       "1       916720                Dysphagia             23.1   \n",
       "2       916741                   Chills             23.1   \n",
       "3       916741                  Myalgia             23.1   \n",
       "4       916772         Feeling abnormal             23.1   \n",
       "...        ...                      ...              ...   \n",
       "8635   1024817               Aspiration             23.1   \n",
       "8636   1024817  Endotracheal intubation             23.1   \n",
       "8637   1024817       Respiratory arrest             23.1   \n",
       "8638   1024853     Abdominal pain upper             23.1   \n",
       "8639   1024853          Nasopharyngitis             23.1   \n",
       "\n",
       "                                  SYMPTOM2  SYMPTOMVERSION2  \\\n",
       "0     Band neutrophil percentage increased             23.1   \n",
       "1                                 Dyspnoea             23.1   \n",
       "2           Complex regional pain syndrome             23.1   \n",
       "3                        Pain in extremity             23.1   \n",
       "4                 SARS-CoV-2 test positive             23.1   \n",
       "...                                    ...              ...   \n",
       "8635     Blood pressure systolic decreased             23.1   \n",
       "8636          Gastrointestinal haemorrhage             23.1   \n",
       "8637                         Resuscitation             23.1   \n",
       "8638                            Aspiration             23.1   \n",
       "8639                                Nausea             23.1   \n",
       "\n",
       "                       SYMPTOM3  SYMPTOMVERSION3  \\\n",
       "0                       Surgery             23.1   \n",
       "1                           NaN              NaN   \n",
       "2                       Fatigue             23.1   \n",
       "3           Peripheral swelling             23.1   \n",
       "4                           NaN              NaN   \n",
       "...                         ...              ...   \n",
       "8635  Cardio-respiratory arrest             23.1   \n",
       "8636     Mechanical ventilation             23.1   \n",
       "8637     Seizure like phenomena             23.1   \n",
       "8638                      Death             23.1   \n",
       "8639   SARS-CoV-2 test negative             23.1   \n",
       "\n",
       "                              SYMPTOM4  SYMPTOMVERSION4  \\\n",
       "0     White blood cell count increased             23.1   \n",
       "1                                  NaN              NaN   \n",
       "2                             Headache             23.1   \n",
       "3                       X-ray abnormal             23.1   \n",
       "4                                  NaN              NaN   \n",
       "...                                ...              ...   \n",
       "8635                             Death             23.1   \n",
       "8636                      Pulse absent             23.1   \n",
       "8637           Unresponsive to stimuli             23.1   \n",
       "8638                           Fatigue             23.1   \n",
       "8639                               NaN              NaN   \n",
       "\n",
       "                             SYMPTOM5  SYMPTOMVERSION5  \n",
       "0                                 NaN              NaN  \n",
       "1                                 NaN              NaN  \n",
       "2     Joint range of motion decreased             23.1  \n",
       "3                                 NaN              NaN  \n",
       "4                                 NaN              NaN  \n",
       "...                               ...              ...  \n",
       "8635                         Dialysis             23.1  \n",
       "8636    Pulseless electrical activity             23.1  \n",
       "8637         Ventricular fibrillation             23.1  \n",
       "8638                      Haemorrhage             23.1  \n",
       "8639                              NaN              NaN  \n",
       "\n",
       "[8640 rows x 11 columns]"
      ]
     },
     "execution_count": 19,
     "metadata": {},
     "output_type": "execute_result"
    }
   ],
   "source": [
    "vaers_symps_data"
   ]
  },
  {
   "cell_type": "code",
   "execution_count": 20,
   "metadata": {},
   "outputs": [],
   "source": [
    "vaers_vax_data = pd.read_csv('../COVID_data/vaccine_response_data/2021VAERSVAX.csv', encoding=charenc) "
   ]
  },
  {
   "cell_type": "code",
   "execution_count": 21,
   "metadata": {},
   "outputs": [
    {
     "data": {
      "text/html": [
       "<div>\n",
       "<style scoped>\n",
       "    .dataframe tbody tr th:only-of-type {\n",
       "        vertical-align: middle;\n",
       "    }\n",
       "\n",
       "    .dataframe tbody tr th {\n",
       "        vertical-align: top;\n",
       "    }\n",
       "\n",
       "    .dataframe thead th {\n",
       "        text-align: right;\n",
       "    }\n",
       "</style>\n",
       "<table border=\"1\" class=\"dataframe\">\n",
       "  <thead>\n",
       "    <tr style=\"text-align: right;\">\n",
       "      <th></th>\n",
       "      <th>VAERS_ID</th>\n",
       "      <th>VAX_TYPE</th>\n",
       "      <th>VAX_MANU</th>\n",
       "      <th>VAX_LOT</th>\n",
       "      <th>VAX_DOSE_SERIES</th>\n",
       "      <th>VAX_ROUTE</th>\n",
       "      <th>VAX_SITE</th>\n",
       "      <th>VAX_NAME</th>\n",
       "    </tr>\n",
       "  </thead>\n",
       "  <tbody>\n",
       "    <tr>\n",
       "      <th>0</th>\n",
       "      <td>916710</td>\n",
       "      <td>COVID19</td>\n",
       "      <td>MODERNA</td>\n",
       "      <td>NaN</td>\n",
       "      <td>1</td>\n",
       "      <td>IM</td>\n",
       "      <td>LA</td>\n",
       "      <td>COVID19 (COVID19 (MODERNA))</td>\n",
       "    </tr>\n",
       "    <tr>\n",
       "      <th>1</th>\n",
       "      <td>916720</td>\n",
       "      <td>COVID19</td>\n",
       "      <td>MODERNA</td>\n",
       "      <td>011L20A</td>\n",
       "      <td>1</td>\n",
       "      <td>IM</td>\n",
       "      <td>AR</td>\n",
       "      <td>COVID19 (COVID19 (MODERNA))</td>\n",
       "    </tr>\n",
       "    <tr>\n",
       "      <th>2</th>\n",
       "      <td>916741</td>\n",
       "      <td>COVID19</td>\n",
       "      <td>PFIZER\\BIONTECH</td>\n",
       "      <td>EH9899</td>\n",
       "      <td>1</td>\n",
       "      <td>SYR</td>\n",
       "      <td>LA</td>\n",
       "      <td>COVID19 (COVID19 (PFIZER-BIONTECH))</td>\n",
       "    </tr>\n",
       "    <tr>\n",
       "      <th>3</th>\n",
       "      <td>916772</td>\n",
       "      <td>COVID19</td>\n",
       "      <td>PFIZER\\BIONTECH</td>\n",
       "      <td>EJ1685</td>\n",
       "      <td>UNK</td>\n",
       "      <td>IM</td>\n",
       "      <td>LA</td>\n",
       "      <td>COVID19 (COVID19 (PFIZER-BIONTECH))</td>\n",
       "    </tr>\n",
       "    <tr>\n",
       "      <th>4</th>\n",
       "      <td>916790</td>\n",
       "      <td>COVID19</td>\n",
       "      <td>PFIZER\\BIONTECH</td>\n",
       "      <td>NaN</td>\n",
       "      <td>1</td>\n",
       "      <td>IM</td>\n",
       "      <td>RA</td>\n",
       "      <td>COVID19 (COVID19 (PFIZER-BIONTECH))</td>\n",
       "    </tr>\n",
       "  </tbody>\n",
       "</table>\n",
       "</div>"
      ],
      "text/plain": [
       "   VAERS_ID VAX_TYPE         VAX_MANU  VAX_LOT VAX_DOSE_SERIES VAX_ROUTE  \\\n",
       "0    916710  COVID19          MODERNA      NaN               1        IM   \n",
       "1    916720  COVID19          MODERNA  011L20A               1        IM   \n",
       "2    916741  COVID19  PFIZER\\BIONTECH   EH9899               1       SYR   \n",
       "3    916772  COVID19  PFIZER\\BIONTECH   EJ1685             UNK        IM   \n",
       "4    916790  COVID19  PFIZER\\BIONTECH      NaN               1        IM   \n",
       "\n",
       "  VAX_SITE                             VAX_NAME  \n",
       "0       LA          COVID19 (COVID19 (MODERNA))  \n",
       "1       AR          COVID19 (COVID19 (MODERNA))  \n",
       "2       LA  COVID19 (COVID19 (PFIZER-BIONTECH))  \n",
       "3       LA  COVID19 (COVID19 (PFIZER-BIONTECH))  \n",
       "4       RA  COVID19 (COVID19 (PFIZER-BIONTECH))  "
      ]
     },
     "execution_count": 21,
     "metadata": {},
     "output_type": "execute_result"
    }
   ],
   "source": [
    "vaers_vax_data.head()"
   ]
  },
  {
   "cell_type": "code",
   "execution_count": 22,
   "metadata": {},
   "outputs": [
    {
     "data": {
      "text/plain": [
       "COVID19 (COVID19 (PFIZER-BIONTECH))                      3517\n",
       "COVID19 (COVID19 (MODERNA))                              1747\n",
       "VACCINE NOT SPECIFIED (NO BRAND NAME)                      29\n",
       "ZOSTER (SHINGRIX)                                          29\n",
       "ZOSTER LIVE (ZOSTAVAX)                                     24\n",
       "INFLUENZA (SEASONAL) (NO BRAND NAME)                       18\n",
       "COVID19 (COVID19 (UNKNOWN))                                15\n",
       "PNEUMO (PNEUMOVAX)                                         12\n",
       "INFLUENZA (SEASONAL) (FLUZONE QUADRIVALENT)                10\n",
       "INFLUENZA (SEASONAL) (FLUZONE HIGH-DOSE QUADRIVALENT)       9\n",
       "MEASLES + MUMPS + RUBELLA (MMR II)                          6\n",
       "INFLUENZA (SEASONAL) (FLUBLOK QUADRIVALENT)                 4\n",
       "PNEUMO (PREVNAR13)                                          4\n",
       "INFLUENZA (SEASONAL) (AFLURIA QUADRIVALENT)                 4\n",
       "VARICELLA (VARIVAX)                                         3\n",
       "HEP B (ENGERIX-B)                                           3\n",
       "TETANUS TOXOID (NO BRAND NAME)                              2\n",
       "INFLUENZA (SEASONAL) (FLUCELVAX QUADRIVALENT)               2\n",
       "VACCINE NOT SPECIFIED (OTHER)                               2\n",
       "INFLUENZA (SEASONAL) (FLUAD QUADRIVALENT)                   2\n",
       "HPV (GARDASIL 9)                                            2\n",
       "TDAP (ADACEL)                                               2\n",
       "INFLUENZA (SEASONAL) (FLUZONE)                              1\n",
       "MENINGOCOCCAL CONJUGATE (MENACTRA)                          1\n",
       "CHOLERA (NO BRAND NAME)                                     1\n",
       "DTAP (DAPTACEL)                                             1\n",
       "INFLUENZA (SEASONAL) (FLUCELVAX)                            1\n",
       "DT ADSORBED (NO BRAND NAME)                                 1\n",
       "INFLUENZA (SEASONAL) (FLULAVAL QUADRIVALENT)                1\n",
       "HEP A (VAQTA)                                               1\n",
       "INFLUENZA (SEASONAL) (FLUAD)                                1\n",
       "HIB (PEDVAXHIB)                                             1\n",
       "HEP B (RECOMBIVAX HB)                                       1\n",
       "INFLUENZA (SEASONAL) (FLUARIX QUADRIVALENT)                 1\n",
       "TDAP (BOOSTRIX)                                             1\n",
       "HPV (GARDASIL)                                              1\n",
       "HIB (ACTHIB)                                                1\n",
       "MENINGOCOCCAL CONJUGATE (MENVEO)                            1\n",
       "DTAP (NO BRAND NAME)                                        1\n",
       "ZOSTER (NO BRAND NAME)                                      1\n",
       "DTAP (INFANRIX)                                             1\n",
       "HEP B (HEPLISAV-B)                                          1\n",
       "TDAP (NO BRAND NAME)                                        1\n",
       "ROTAVIRUS (ROTARIX)                                         1\n",
       "HEP A (HAVRIX)                                              1\n",
       "PNEUMO (NO BRAND NAME)                                      1\n",
       "DTAP + HEPB + IPV (PEDIARIX)                                1\n",
       "Name: VAX_NAME, dtype: int64"
      ]
     },
     "execution_count": 22,
     "metadata": {},
     "output_type": "execute_result"
    }
   ],
   "source": [
    "vaers_vax_data['VAX_NAME'].value_counts()"
   ]
  },
  {
   "cell_type": "code",
   "execution_count": 23,
   "metadata": {},
   "outputs": [
    {
     "data": {
      "text/plain": [
       "LA    2389\n",
       "RA     931\n",
       "AR     134\n",
       "UN     128\n",
       "LL      11\n",
       "RL       7\n",
       "LG       5\n",
       "OT       3\n",
       "Name: VAX_SITE, dtype: int64"
      ]
     },
     "execution_count": 23,
     "metadata": {},
     "output_type": "execute_result"
    }
   ],
   "source": [
    "vaers_vax_data['VAX_SITE'].value_counts()"
   ]
  },
  {
   "cell_type": "code",
   "execution_count": 24,
   "metadata": {},
   "outputs": [
    {
     "data": {
      "text/plain": [
       "1      3538\n",
       "UNK    1027\n",
       "2       880\n",
       "7+        5\n",
       "3         5\n",
       "4         4\n",
       "5         2\n",
       "6         1\n",
       "Name: VAX_DOSE_SERIES, dtype: int64"
      ]
     },
     "execution_count": 24,
     "metadata": {},
     "output_type": "execute_result"
    }
   ],
   "source": [
    "vaers_vax_data['VAX_DOSE_SERIES'].value_counts()"
   ]
  },
  {
   "cell_type": "code",
   "execution_count": 25,
   "metadata": {},
   "outputs": [
    {
     "data": {
      "text/plain": [
       "EK9231     187\n",
       "EH9899     171\n",
       "EK5730     163\n",
       "EL1284     135\n",
       "EJ1685     124\n",
       "          ... \n",
       "029620A      1\n",
       "EL 0140      1\n",
       "el3249       1\n",
       "EL1686       1\n",
       "ELI283       1\n",
       "Name: VAX_LOT, Length: 491, dtype: int64"
      ]
     },
     "execution_count": 25,
     "metadata": {},
     "output_type": "execute_result"
    }
   ],
   "source": [
    "vaers_vax_data['VAX_LOT'].value_counts()"
   ]
  },
  {
   "cell_type": "markdown",
   "metadata": {},
   "source": [
    "## COVID By State"
   ]
  },
  {
   "cell_type": "code",
   "execution_count": 26,
   "metadata": {},
   "outputs": [],
   "source": [
    "covid_state = pd.read_csv('../COVID_data/nyt_covid_data/us-states.csv')"
   ]
  },
  {
   "cell_type": "code",
   "execution_count": 27,
   "metadata": {},
   "outputs": [
    {
     "data": {
      "text/html": [
       "<div>\n",
       "<style scoped>\n",
       "    .dataframe tbody tr th:only-of-type {\n",
       "        vertical-align: middle;\n",
       "    }\n",
       "\n",
       "    .dataframe tbody tr th {\n",
       "        vertical-align: top;\n",
       "    }\n",
       "\n",
       "    .dataframe thead th {\n",
       "        text-align: right;\n",
       "    }\n",
       "</style>\n",
       "<table border=\"1\" class=\"dataframe\">\n",
       "  <thead>\n",
       "    <tr style=\"text-align: right;\">\n",
       "      <th></th>\n",
       "      <th>date</th>\n",
       "      <th>state</th>\n",
       "      <th>fips</th>\n",
       "      <th>cases</th>\n",
       "      <th>deaths</th>\n",
       "    </tr>\n",
       "  </thead>\n",
       "  <tbody>\n",
       "    <tr>\n",
       "      <th>0</th>\n",
       "      <td>2020-01-21</td>\n",
       "      <td>Washington</td>\n",
       "      <td>53</td>\n",
       "      <td>1</td>\n",
       "      <td>0</td>\n",
       "    </tr>\n",
       "    <tr>\n",
       "      <th>1</th>\n",
       "      <td>2020-01-22</td>\n",
       "      <td>Washington</td>\n",
       "      <td>53</td>\n",
       "      <td>1</td>\n",
       "      <td>0</td>\n",
       "    </tr>\n",
       "    <tr>\n",
       "      <th>2</th>\n",
       "      <td>2020-01-23</td>\n",
       "      <td>Washington</td>\n",
       "      <td>53</td>\n",
       "      <td>1</td>\n",
       "      <td>0</td>\n",
       "    </tr>\n",
       "    <tr>\n",
       "      <th>3</th>\n",
       "      <td>2020-01-24</td>\n",
       "      <td>Illinois</td>\n",
       "      <td>17</td>\n",
       "      <td>1</td>\n",
       "      <td>0</td>\n",
       "    </tr>\n",
       "    <tr>\n",
       "      <th>4</th>\n",
       "      <td>2020-01-24</td>\n",
       "      <td>Washington</td>\n",
       "      <td>53</td>\n",
       "      <td>1</td>\n",
       "      <td>0</td>\n",
       "    </tr>\n",
       "  </tbody>\n",
       "</table>\n",
       "</div>"
      ],
      "text/plain": [
       "         date       state  fips  cases  deaths\n",
       "0  2020-01-21  Washington    53      1       0\n",
       "1  2020-01-22  Washington    53      1       0\n",
       "2  2020-01-23  Washington    53      1       0\n",
       "3  2020-01-24    Illinois    17      1       0\n",
       "4  2020-01-24  Washington    53      1       0"
      ]
     },
     "execution_count": 27,
     "metadata": {},
     "output_type": "execute_result"
    }
   ],
   "source": [
    "covid_state.head()"
   ]
  },
  {
   "cell_type": "code",
   "execution_count": 28,
   "metadata": {},
   "outputs": [
    {
     "data": {
      "text/plain": [
       "(21354, 5)"
      ]
     },
     "execution_count": 28,
     "metadata": {},
     "output_type": "execute_result"
    }
   ],
   "source": [
    "covid_state.shape"
   ]
  },
  {
   "cell_type": "code",
   "execution_count": 32,
   "metadata": {},
   "outputs": [
    {
     "data": {
      "text/plain": [
       "DataTransformerRegistry.enable('data_server')"
      ]
     },
     "execution_count": 32,
     "metadata": {},
     "output_type": "execute_result"
    }
   ],
   "source": [
    "import altair as alt\n",
    "alt.data_transformers.enable('data_server')"
   ]
  },
  {
   "cell_type": "code",
   "execution_count": 33,
   "metadata": {},
   "outputs": [],
   "source": [
    "bottom_10 = covid_state.groupby('state')['cases'].max().sort_values()[:10].index"
   ]
  },
  {
   "cell_type": "code",
   "execution_count": 34,
   "metadata": {},
   "outputs": [],
   "source": [
    "top_10 = covid_state.groupby('state')['cases'].max().sort_values(ascending=False)[:10].index"
   ]
  },
  {
   "cell_type": "code",
   "execution_count": 35,
   "metadata": {},
   "outputs": [
    {
     "data": {
      "text/html": [
       "\n",
       "<div id=\"altair-viz-2d32b245319749fcae71059abdb75bb9\"></div>\n",
       "<script type=\"text/javascript\">\n",
       "  (function(spec, embedOpt){\n",
       "    let outputDiv = document.currentScript.previousElementSibling;\n",
       "    if (outputDiv.id !== \"altair-viz-2d32b245319749fcae71059abdb75bb9\") {\n",
       "      outputDiv = document.getElementById(\"altair-viz-2d32b245319749fcae71059abdb75bb9\");\n",
       "    }\n",
       "    const paths = {\n",
       "      \"vega\": \"https://cdn.jsdelivr.net/npm//vega@5?noext\",\n",
       "      \"vega-lib\": \"https://cdn.jsdelivr.net/npm//vega-lib?noext\",\n",
       "      \"vega-lite\": \"https://cdn.jsdelivr.net/npm//vega-lite@4.8.1?noext\",\n",
       "      \"vega-embed\": \"https://cdn.jsdelivr.net/npm//vega-embed@6?noext\",\n",
       "    };\n",
       "\n",
       "    function loadScript(lib) {\n",
       "      return new Promise(function(resolve, reject) {\n",
       "        var s = document.createElement('script');\n",
       "        s.src = paths[lib];\n",
       "        s.async = true;\n",
       "        s.onload = () => resolve(paths[lib]);\n",
       "        s.onerror = () => reject(`Error loading script: ${paths[lib]}`);\n",
       "        document.getElementsByTagName(\"head\")[0].appendChild(s);\n",
       "      });\n",
       "    }\n",
       "\n",
       "    function showError(err) {\n",
       "      outputDiv.innerHTML = `<div class=\"error\" style=\"color:red;\">${err}</div>`;\n",
       "      throw err;\n",
       "    }\n",
       "\n",
       "    function displayChart(vegaEmbed) {\n",
       "      vegaEmbed(outputDiv, spec, embedOpt)\n",
       "        .catch(err => showError(`Javascript Error: ${err.message}<br>This usually means there's a typo in your chart specification. See the javascript console for the full traceback.`));\n",
       "    }\n",
       "\n",
       "    if(typeof define === \"function\" && define.amd) {\n",
       "      requirejs.config({paths});\n",
       "      require([\"vega-embed\"], displayChart, err => showError(`Error loading script: ${err.message}`));\n",
       "    } else if (typeof vegaEmbed === \"function\") {\n",
       "      displayChart(vegaEmbed);\n",
       "    } else {\n",
       "      loadScript(\"vega\")\n",
       "        .then(() => loadScript(\"vega-lite\"))\n",
       "        .then(() => loadScript(\"vega-embed\"))\n",
       "        .catch(showError)\n",
       "        .then(() => displayChart(vegaEmbed));\n",
       "    }\n",
       "  })({\"config\": {\"view\": {\"continuousWidth\": 400, \"continuousHeight\": 300}}, \"data\": {\"url\": \"http://localhost:24230/9aa48db7a636c346f36ae15ead525430.json\"}, \"mark\": \"line\", \"encoding\": {\"row\": {\"type\": \"nominal\", \"field\": \"state\"}, \"x\": {\"type\": \"temporal\", \"field\": \"date\", \"timeUnit\": \"yearmonth\"}, \"y\": {\"type\": \"quantitative\", \"field\": \"cases\"}}, \"$schema\": \"https://vega.github.io/schema/vega-lite/v4.8.1.json\"}, {\"mode\": \"vega-lite\"});\n",
       "</script>"
      ],
      "text/plain": [
       "alt.Chart(...)"
      ]
     },
     "execution_count": 35,
     "metadata": {},
     "output_type": "execute_result"
    }
   ],
   "source": [
    "alt.Chart(covid_state[covid_state['state'].isin(bottom_10)]).mark_line().encode(\n",
    "    x='yearmonth(date):T',\n",
    "    y='cases',\n",
    "    row='state'\n",
    ")"
   ]
  },
  {
   "cell_type": "code",
   "execution_count": 36,
   "metadata": {},
   "outputs": [
    {
     "data": {
      "text/html": [
       "\n",
       "<div id=\"altair-viz-920ab9765ccf4f7196c663733c2be794\"></div>\n",
       "<script type=\"text/javascript\">\n",
       "  (function(spec, embedOpt){\n",
       "    let outputDiv = document.currentScript.previousElementSibling;\n",
       "    if (outputDiv.id !== \"altair-viz-920ab9765ccf4f7196c663733c2be794\") {\n",
       "      outputDiv = document.getElementById(\"altair-viz-920ab9765ccf4f7196c663733c2be794\");\n",
       "    }\n",
       "    const paths = {\n",
       "      \"vega\": \"https://cdn.jsdelivr.net/npm//vega@5?noext\",\n",
       "      \"vega-lib\": \"https://cdn.jsdelivr.net/npm//vega-lib?noext\",\n",
       "      \"vega-lite\": \"https://cdn.jsdelivr.net/npm//vega-lite@4.8.1?noext\",\n",
       "      \"vega-embed\": \"https://cdn.jsdelivr.net/npm//vega-embed@6?noext\",\n",
       "    };\n",
       "\n",
       "    function loadScript(lib) {\n",
       "      return new Promise(function(resolve, reject) {\n",
       "        var s = document.createElement('script');\n",
       "        s.src = paths[lib];\n",
       "        s.async = true;\n",
       "        s.onload = () => resolve(paths[lib]);\n",
       "        s.onerror = () => reject(`Error loading script: ${paths[lib]}`);\n",
       "        document.getElementsByTagName(\"head\")[0].appendChild(s);\n",
       "      });\n",
       "    }\n",
       "\n",
       "    function showError(err) {\n",
       "      outputDiv.innerHTML = `<div class=\"error\" style=\"color:red;\">${err}</div>`;\n",
       "      throw err;\n",
       "    }\n",
       "\n",
       "    function displayChart(vegaEmbed) {\n",
       "      vegaEmbed(outputDiv, spec, embedOpt)\n",
       "        .catch(err => showError(`Javascript Error: ${err.message}<br>This usually means there's a typo in your chart specification. See the javascript console for the full traceback.`));\n",
       "    }\n",
       "\n",
       "    if(typeof define === \"function\" && define.amd) {\n",
       "      requirejs.config({paths});\n",
       "      require([\"vega-embed\"], displayChart, err => showError(`Error loading script: ${err.message}`));\n",
       "    } else if (typeof vegaEmbed === \"function\") {\n",
       "      displayChart(vegaEmbed);\n",
       "    } else {\n",
       "      loadScript(\"vega\")\n",
       "        .then(() => loadScript(\"vega-lite\"))\n",
       "        .then(() => loadScript(\"vega-embed\"))\n",
       "        .catch(showError)\n",
       "        .then(() => displayChart(vegaEmbed));\n",
       "    }\n",
       "  })({\"config\": {\"view\": {\"continuousWidth\": 400, \"continuousHeight\": 300}}, \"data\": {\"url\": \"http://localhost:24230/4a9550ca16fbd63c8fd16ccecf0bd301.json\"}, \"mark\": \"line\", \"encoding\": {\"row\": {\"type\": \"nominal\", \"field\": \"state\"}, \"x\": {\"type\": \"temporal\", \"field\": \"date\", \"timeUnit\": \"yearmonth\"}, \"y\": {\"type\": \"quantitative\", \"field\": \"cases\"}}, \"$schema\": \"https://vega.github.io/schema/vega-lite/v4.8.1.json\"}, {\"mode\": \"vega-lite\"});\n",
       "</script>"
      ],
      "text/plain": [
       "alt.Chart(...)"
      ]
     },
     "execution_count": 36,
     "metadata": {},
     "output_type": "execute_result"
    }
   ],
   "source": [
    "alt.Chart(covid_state[covid_state['state'].isin(top_10)]).mark_line().encode(\n",
    "    x='yearmonth(date):T',\n",
    "    y='cases',\n",
    "    row='state'\n",
    ")"
   ]
  },
  {
   "cell_type": "markdown",
   "metadata": {},
   "source": [
    "## Article Data"
   ]
  },
  {
   "cell_type": "code",
   "execution_count": 37,
   "metadata": {},
   "outputs": [
    {
     "name": "stderr",
     "output_type": "stream",
     "text": [
      "C:\\Users\\mitch\\Anaconda3\\envs\\data_eng_tf\\lib\\site-packages\\IPython\\core\\interactiveshell.py:3166: DtypeWarning: Columns (1,4,5,6,13,14,15,16) have mixed types.Specify dtype option on import or set low_memory=False.\n",
      "  interactivity=interactivity, compiler=compiler, result=result)\n"
     ]
    }
   ],
   "source": [
    "article_metadata = pd.read_csv('../COVID_data/article_metadata/metadata.csv')"
   ]
  },
  {
   "cell_type": "code",
   "execution_count": 38,
   "metadata": {},
   "outputs": [
    {
     "data": {
      "text/plain": [
       "False    356568\n",
       "True     134336\n",
       "Name: abstract, dtype: int64"
      ]
     },
     "execution_count": 38,
     "metadata": {},
     "output_type": "execute_result"
    }
   ],
   "source": [
    "article_metadata['abstract'].isna().value_counts()"
   ]
  },
  {
   "cell_type": "code",
   "execution_count": 39,
   "metadata": {},
   "outputs": [
    {
     "data": {
      "text/plain": [
       "False    490673\n",
       "True        231\n",
       "Name: title, dtype: int64"
      ]
     },
     "execution_count": 39,
     "metadata": {},
     "output_type": "execute_result"
    }
   ],
   "source": [
    "article_metadata['title'].isna().value_counts()"
   ]
  },
  {
   "cell_type": "code",
   "execution_count": 40,
   "metadata": {},
   "outputs": [
    {
     "data": {
      "text/html": [
       "<div>\n",
       "<style scoped>\n",
       "    .dataframe tbody tr th:only-of-type {\n",
       "        vertical-align: middle;\n",
       "    }\n",
       "\n",
       "    .dataframe tbody tr th {\n",
       "        vertical-align: top;\n",
       "    }\n",
       "\n",
       "    .dataframe thead th {\n",
       "        text-align: right;\n",
       "    }\n",
       "</style>\n",
       "<table border=\"1\" class=\"dataframe\">\n",
       "  <thead>\n",
       "    <tr style=\"text-align: right;\">\n",
       "      <th></th>\n",
       "      <th>cord_uid</th>\n",
       "      <th>sha</th>\n",
       "      <th>source_x</th>\n",
       "      <th>title</th>\n",
       "      <th>doi</th>\n",
       "      <th>pmcid</th>\n",
       "      <th>pubmed_id</th>\n",
       "      <th>license</th>\n",
       "      <th>abstract</th>\n",
       "      <th>publish_time</th>\n",
       "      <th>authors</th>\n",
       "      <th>journal</th>\n",
       "      <th>mag_id</th>\n",
       "      <th>who_covidence_id</th>\n",
       "      <th>arxiv_id</th>\n",
       "      <th>pdf_json_files</th>\n",
       "      <th>pmc_json_files</th>\n",
       "      <th>url</th>\n",
       "      <th>s2_id</th>\n",
       "    </tr>\n",
       "  </thead>\n",
       "  <tbody>\n",
       "    <tr>\n",
       "      <th>0</th>\n",
       "      <td>ug7v899j</td>\n",
       "      <td>d1aafb70c066a2068b02786f8929fd9c900897fb</td>\n",
       "      <td>PMC</td>\n",
       "      <td>Clinical features of culture-proven Mycoplasma...</td>\n",
       "      <td>10.1186/1471-2334-1-6</td>\n",
       "      <td>PMC35282</td>\n",
       "      <td>11472636</td>\n",
       "      <td>no-cc</td>\n",
       "      <td>OBJECTIVE: This retrospective chart review des...</td>\n",
       "      <td>2001-07-04</td>\n",
       "      <td>Madani, Tariq A; Al-Ghamdi, Aisha A</td>\n",
       "      <td>BMC Infect Dis</td>\n",
       "      <td>NaN</td>\n",
       "      <td>NaN</td>\n",
       "      <td>NaN</td>\n",
       "      <td>document_parses/pdf_json/d1aafb70c066a2068b027...</td>\n",
       "      <td>document_parses/pmc_json/PMC35282.xml.json</td>\n",
       "      <td>https://www.ncbi.nlm.nih.gov/pmc/articles/PMC3...</td>\n",
       "      <td>NaN</td>\n",
       "    </tr>\n",
       "    <tr>\n",
       "      <th>1</th>\n",
       "      <td>02tnwd4m</td>\n",
       "      <td>6b0567729c2143a66d737eb0a2f63f2dce2e5a7d</td>\n",
       "      <td>PMC</td>\n",
       "      <td>Nitric oxide: a pro-inflammatory mediator in l...</td>\n",
       "      <td>10.1186/rr14</td>\n",
       "      <td>PMC59543</td>\n",
       "      <td>11667967</td>\n",
       "      <td>no-cc</td>\n",
       "      <td>Inflammatory diseases of the respiratory tract...</td>\n",
       "      <td>2000-08-15</td>\n",
       "      <td>Vliet, Albert van der; Eiserich, Jason P; Cros...</td>\n",
       "      <td>Respir Res</td>\n",
       "      <td>NaN</td>\n",
       "      <td>NaN</td>\n",
       "      <td>NaN</td>\n",
       "      <td>document_parses/pdf_json/6b0567729c2143a66d737...</td>\n",
       "      <td>document_parses/pmc_json/PMC59543.xml.json</td>\n",
       "      <td>https://www.ncbi.nlm.nih.gov/pmc/articles/PMC5...</td>\n",
       "      <td>NaN</td>\n",
       "    </tr>\n",
       "    <tr>\n",
       "      <th>2</th>\n",
       "      <td>ejv2xln0</td>\n",
       "      <td>06ced00a5fc04215949aa72528f2eeaae1d58927</td>\n",
       "      <td>PMC</td>\n",
       "      <td>Surfactant protein-D and pulmonary host defense</td>\n",
       "      <td>10.1186/rr19</td>\n",
       "      <td>PMC59549</td>\n",
       "      <td>11667972</td>\n",
       "      <td>no-cc</td>\n",
       "      <td>Surfactant protein-D (SP-D) participates in th...</td>\n",
       "      <td>2000-08-25</td>\n",
       "      <td>Crouch, Erika C</td>\n",
       "      <td>Respir Res</td>\n",
       "      <td>NaN</td>\n",
       "      <td>NaN</td>\n",
       "      <td>NaN</td>\n",
       "      <td>document_parses/pdf_json/06ced00a5fc04215949aa...</td>\n",
       "      <td>document_parses/pmc_json/PMC59549.xml.json</td>\n",
       "      <td>https://www.ncbi.nlm.nih.gov/pmc/articles/PMC5...</td>\n",
       "      <td>NaN</td>\n",
       "    </tr>\n",
       "    <tr>\n",
       "      <th>3</th>\n",
       "      <td>2b73a28n</td>\n",
       "      <td>348055649b6b8cf2b9a376498df9bf41f7123605</td>\n",
       "      <td>PMC</td>\n",
       "      <td>Role of endothelin-1 in lung disease</td>\n",
       "      <td>10.1186/rr44</td>\n",
       "      <td>PMC59574</td>\n",
       "      <td>11686871</td>\n",
       "      <td>no-cc</td>\n",
       "      <td>Endothelin-1 (ET-1) is a 21 amino acid peptide...</td>\n",
       "      <td>2001-02-22</td>\n",
       "      <td>Fagan, Karen A; McMurtry, Ivan F; Rodman, David M</td>\n",
       "      <td>Respir Res</td>\n",
       "      <td>NaN</td>\n",
       "      <td>NaN</td>\n",
       "      <td>NaN</td>\n",
       "      <td>document_parses/pdf_json/348055649b6b8cf2b9a37...</td>\n",
       "      <td>document_parses/pmc_json/PMC59574.xml.json</td>\n",
       "      <td>https://www.ncbi.nlm.nih.gov/pmc/articles/PMC5...</td>\n",
       "      <td>NaN</td>\n",
       "    </tr>\n",
       "    <tr>\n",
       "      <th>4</th>\n",
       "      <td>9785vg6d</td>\n",
       "      <td>5f48792a5fa08bed9f56016f4981ae2ca6031b32</td>\n",
       "      <td>PMC</td>\n",
       "      <td>Gene expression in epithelial cells in respons...</td>\n",
       "      <td>10.1186/rr61</td>\n",
       "      <td>PMC59580</td>\n",
       "      <td>11686888</td>\n",
       "      <td>no-cc</td>\n",
       "      <td>Respiratory syncytial virus (RSV) and pneumoni...</td>\n",
       "      <td>2001-05-11</td>\n",
       "      <td>Domachowske, Joseph B; Bonville, Cynthia A; Ro...</td>\n",
       "      <td>Respir Res</td>\n",
       "      <td>NaN</td>\n",
       "      <td>NaN</td>\n",
       "      <td>NaN</td>\n",
       "      <td>document_parses/pdf_json/5f48792a5fa08bed9f560...</td>\n",
       "      <td>document_parses/pmc_json/PMC59580.xml.json</td>\n",
       "      <td>https://www.ncbi.nlm.nih.gov/pmc/articles/PMC5...</td>\n",
       "      <td>NaN</td>\n",
       "    </tr>\n",
       "    <tr>\n",
       "      <th>...</th>\n",
       "      <td>...</td>\n",
       "      <td>...</td>\n",
       "      <td>...</td>\n",
       "      <td>...</td>\n",
       "      <td>...</td>\n",
       "      <td>...</td>\n",
       "      <td>...</td>\n",
       "      <td>...</td>\n",
       "      <td>...</td>\n",
       "      <td>...</td>\n",
       "      <td>...</td>\n",
       "      <td>...</td>\n",
       "      <td>...</td>\n",
       "      <td>...</td>\n",
       "      <td>...</td>\n",
       "      <td>...</td>\n",
       "      <td>...</td>\n",
       "      <td>...</td>\n",
       "      <td>...</td>\n",
       "    </tr>\n",
       "    <tr>\n",
       "      <th>490898</th>\n",
       "      <td>rbemevt2</td>\n",
       "      <td>20b74039ae20e4dfae0a66ff5caa3e00484af24d</td>\n",
       "      <td>Elsevier; PMC</td>\n",
       "      <td>Tackling COVID-19 Pandemic through Nanocoating...</td>\n",
       "      <td>10.1016/j.crgsc.2020.100011</td>\n",
       "      <td>PMC7346813</td>\n",
       "      <td>NaN</td>\n",
       "      <td>els-covid</td>\n",
       "      <td>Abstract After the eruption of the most deadly...</td>\n",
       "      <td>2020-07-09</td>\n",
       "      <td>Rai, Pradeep Kumar; Usmani, Zeba; Thakur, Vija...</td>\n",
       "      <td>NaN</td>\n",
       "      <td>NaN</td>\n",
       "      <td>NaN</td>\n",
       "      <td>NaN</td>\n",
       "      <td>document_parses/pdf_json/20b74039ae20e4dfae0a6...</td>\n",
       "      <td>NaN</td>\n",
       "      <td>https://api.elsevier.com/content/article/pii/S...</td>\n",
       "      <td>220428659.0</td>\n",
       "    </tr>\n",
       "    <tr>\n",
       "      <th>490899</th>\n",
       "      <td>6oqwjj93</td>\n",
       "      <td>4420ba48ac1065a1653a8cc8fcee8ce727d44fcd</td>\n",
       "      <td>Elsevier; Medline; PMC</td>\n",
       "      <td>Loss aversion fails to replicate in the corona...</td>\n",
       "      <td>10.1016/j.econlet.2020.109433</td>\n",
       "      <td>PMC7377995</td>\n",
       "      <td>32836579.0</td>\n",
       "      <td>no-cc</td>\n",
       "      <td>Loss aversion is a foundational bias and is a ...</td>\n",
       "      <td>2020-07-24</td>\n",
       "      <td>Sanders, Michael; Stockdale, Emma; Hume, Susan...</td>\n",
       "      <td>Econ Lett</td>\n",
       "      <td>NaN</td>\n",
       "      <td>NaN</td>\n",
       "      <td>NaN</td>\n",
       "      <td>document_parses/pdf_json/4420ba48ac1065a1653a8...</td>\n",
       "      <td>document_parses/pmc_json/PMC7377995.xml.json</td>\n",
       "      <td>https://doi.org/10.1016/j.econlet.2020.109433;...</td>\n",
       "      <td>220715537.0</td>\n",
       "    </tr>\n",
       "    <tr>\n",
       "      <th>490900</th>\n",
       "      <td>w094r17f</td>\n",
       "      <td>15f169d3b781549c83dc88a9750917e9867593aa</td>\n",
       "      <td>Medline; PMC</td>\n",
       "      <td>COVID-19 increased the risk of ICU-acquired bl...</td>\n",
       "      <td>10.1007/s00134-021-06346-w</td>\n",
       "      <td>PMC7839935</td>\n",
       "      <td>33506379.0</td>\n",
       "      <td>no-cc</td>\n",
       "      <td>PURPOSE: The primary objective of this study w...</td>\n",
       "      <td>2021-01-27</td>\n",
       "      <td>Buetti, Niccolò; Ruckly, Stéphane; de Montmoll...</td>\n",
       "      <td>Intensive Care Med</td>\n",
       "      <td>NaN</td>\n",
       "      <td>NaN</td>\n",
       "      <td>NaN</td>\n",
       "      <td>document_parses/pdf_json/15f169d3b781549c83dc8...</td>\n",
       "      <td>document_parses/pmc_json/PMC7839935.xml.json</td>\n",
       "      <td>https://doi.org/10.1007/s00134-021-06346-w; ht...</td>\n",
       "      <td>231720985.0</td>\n",
       "    </tr>\n",
       "    <tr>\n",
       "      <th>490901</th>\n",
       "      <td>3zvwu5bd</td>\n",
       "      <td>a8dca87fa78f22310ca799b28d6cf90351f33de0</td>\n",
       "      <td>Medline; PMC</td>\n",
       "      <td>Large Arf1 guanine nucleotide exchange factors...</td>\n",
       "      <td>10.1007/s00438-009-0473-3</td>\n",
       "      <td>PMC7088145</td>\n",
       "      <td>19669794.0</td>\n",
       "      <td>no-cc</td>\n",
       "      <td>The Sec7 domain ADP-ribosylation factor (Arf) ...</td>\n",
       "      <td>2009-08-11</td>\n",
       "      <td>Bui, Quynh Trang; Golinelli-Cohen, Marie-Pierr...</td>\n",
       "      <td>Mol Genet Genomics</td>\n",
       "      <td>NaN</td>\n",
       "      <td>NaN</td>\n",
       "      <td>NaN</td>\n",
       "      <td>document_parses/pdf_json/a8dca87fa78f22310ca79...</td>\n",
       "      <td>document_parses/pmc_json/PMC7088145.xml.json</td>\n",
       "      <td>https://doi.org/10.1007/s00438-009-0473-3; htt...</td>\n",
       "      <td>25567802.0</td>\n",
       "    </tr>\n",
       "    <tr>\n",
       "      <th>490902</th>\n",
       "      <td>39kad7hm</td>\n",
       "      <td>NaN</td>\n",
       "      <td>Elsevier; PMC</td>\n",
       "      <td>N-Terminal Pro-B-Type Natriuretic Peptide and ...</td>\n",
       "      <td>10.1016/j.cardfail.2020.09.213</td>\n",
       "      <td>PMC7527191</td>\n",
       "      <td>NaN</td>\n",
       "      <td>els-covid</td>\n",
       "      <td>Severe acute respiratory syndrome coronavirus ...</td>\n",
       "      <td>2020-10-31</td>\n",
       "      <td>Yoo, Jeanwoo; Papamanoli, Aikaterini; Grewal, ...</td>\n",
       "      <td>Journal of Cardiac Failure</td>\n",
       "      <td>NaN</td>\n",
       "      <td>NaN</td>\n",
       "      <td>NaN</td>\n",
       "      <td>NaN</td>\n",
       "      <td>NaN</td>\n",
       "      <td>https://api.elsevier.com/content/article/pii/S...</td>\n",
       "      <td>222091830.0</td>\n",
       "    </tr>\n",
       "  </tbody>\n",
       "</table>\n",
       "<p>356524 rows × 19 columns</p>\n",
       "</div>"
      ],
      "text/plain": [
       "        cord_uid                                       sha  \\\n",
       "0       ug7v899j  d1aafb70c066a2068b02786f8929fd9c900897fb   \n",
       "1       02tnwd4m  6b0567729c2143a66d737eb0a2f63f2dce2e5a7d   \n",
       "2       ejv2xln0  06ced00a5fc04215949aa72528f2eeaae1d58927   \n",
       "3       2b73a28n  348055649b6b8cf2b9a376498df9bf41f7123605   \n",
       "4       9785vg6d  5f48792a5fa08bed9f56016f4981ae2ca6031b32   \n",
       "...          ...                                       ...   \n",
       "490898  rbemevt2  20b74039ae20e4dfae0a66ff5caa3e00484af24d   \n",
       "490899  6oqwjj93  4420ba48ac1065a1653a8cc8fcee8ce727d44fcd   \n",
       "490900  w094r17f  15f169d3b781549c83dc88a9750917e9867593aa   \n",
       "490901  3zvwu5bd  a8dca87fa78f22310ca799b28d6cf90351f33de0   \n",
       "490902  39kad7hm                                       NaN   \n",
       "\n",
       "                      source_x  \\\n",
       "0                          PMC   \n",
       "1                          PMC   \n",
       "2                          PMC   \n",
       "3                          PMC   \n",
       "4                          PMC   \n",
       "...                        ...   \n",
       "490898           Elsevier; PMC   \n",
       "490899  Elsevier; Medline; PMC   \n",
       "490900            Medline; PMC   \n",
       "490901            Medline; PMC   \n",
       "490902           Elsevier; PMC   \n",
       "\n",
       "                                                    title  \\\n",
       "0       Clinical features of culture-proven Mycoplasma...   \n",
       "1       Nitric oxide: a pro-inflammatory mediator in l...   \n",
       "2         Surfactant protein-D and pulmonary host defense   \n",
       "3                    Role of endothelin-1 in lung disease   \n",
       "4       Gene expression in epithelial cells in respons...   \n",
       "...                                                   ...   \n",
       "490898  Tackling COVID-19 Pandemic through Nanocoating...   \n",
       "490899  Loss aversion fails to replicate in the corona...   \n",
       "490900  COVID-19 increased the risk of ICU-acquired bl...   \n",
       "490901  Large Arf1 guanine nucleotide exchange factors...   \n",
       "490902  N-Terminal Pro-B-Type Natriuretic Peptide and ...   \n",
       "\n",
       "                                   doi       pmcid   pubmed_id    license  \\\n",
       "0                10.1186/1471-2334-1-6    PMC35282    11472636      no-cc   \n",
       "1                         10.1186/rr14    PMC59543    11667967      no-cc   \n",
       "2                         10.1186/rr19    PMC59549    11667972      no-cc   \n",
       "3                         10.1186/rr44    PMC59574    11686871      no-cc   \n",
       "4                         10.1186/rr61    PMC59580    11686888      no-cc   \n",
       "...                                ...         ...         ...        ...   \n",
       "490898     10.1016/j.crgsc.2020.100011  PMC7346813         NaN  els-covid   \n",
       "490899   10.1016/j.econlet.2020.109433  PMC7377995  32836579.0      no-cc   \n",
       "490900      10.1007/s00134-021-06346-w  PMC7839935  33506379.0      no-cc   \n",
       "490901       10.1007/s00438-009-0473-3  PMC7088145  19669794.0      no-cc   \n",
       "490902  10.1016/j.cardfail.2020.09.213  PMC7527191         NaN  els-covid   \n",
       "\n",
       "                                                 abstract publish_time  \\\n",
       "0       OBJECTIVE: This retrospective chart review des...   2001-07-04   \n",
       "1       Inflammatory diseases of the respiratory tract...   2000-08-15   \n",
       "2       Surfactant protein-D (SP-D) participates in th...   2000-08-25   \n",
       "3       Endothelin-1 (ET-1) is a 21 amino acid peptide...   2001-02-22   \n",
       "4       Respiratory syncytial virus (RSV) and pneumoni...   2001-05-11   \n",
       "...                                                   ...          ...   \n",
       "490898  Abstract After the eruption of the most deadly...   2020-07-09   \n",
       "490899  Loss aversion is a foundational bias and is a ...   2020-07-24   \n",
       "490900  PURPOSE: The primary objective of this study w...   2021-01-27   \n",
       "490901  The Sec7 domain ADP-ribosylation factor (Arf) ...   2009-08-11   \n",
       "490902  Severe acute respiratory syndrome coronavirus ...   2020-10-31   \n",
       "\n",
       "                                                  authors  \\\n",
       "0                     Madani, Tariq A; Al-Ghamdi, Aisha A   \n",
       "1       Vliet, Albert van der; Eiserich, Jason P; Cros...   \n",
       "2                                         Crouch, Erika C   \n",
       "3       Fagan, Karen A; McMurtry, Ivan F; Rodman, David M   \n",
       "4       Domachowske, Joseph B; Bonville, Cynthia A; Ro...   \n",
       "...                                                   ...   \n",
       "490898  Rai, Pradeep Kumar; Usmani, Zeba; Thakur, Vija...   \n",
       "490899  Sanders, Michael; Stockdale, Emma; Hume, Susan...   \n",
       "490900  Buetti, Niccolò; Ruckly, Stéphane; de Montmoll...   \n",
       "490901  Bui, Quynh Trang; Golinelli-Cohen, Marie-Pierr...   \n",
       "490902  Yoo, Jeanwoo; Papamanoli, Aikaterini; Grewal, ...   \n",
       "\n",
       "                           journal  mag_id who_covidence_id arxiv_id  \\\n",
       "0                   BMC Infect Dis     NaN              NaN      NaN   \n",
       "1                       Respir Res     NaN              NaN      NaN   \n",
       "2                       Respir Res     NaN              NaN      NaN   \n",
       "3                       Respir Res     NaN              NaN      NaN   \n",
       "4                       Respir Res     NaN              NaN      NaN   \n",
       "...                            ...     ...              ...      ...   \n",
       "490898                         NaN     NaN              NaN      NaN   \n",
       "490899                   Econ Lett     NaN              NaN      NaN   \n",
       "490900          Intensive Care Med     NaN              NaN      NaN   \n",
       "490901          Mol Genet Genomics     NaN              NaN      NaN   \n",
       "490902  Journal of Cardiac Failure     NaN              NaN      NaN   \n",
       "\n",
       "                                           pdf_json_files  \\\n",
       "0       document_parses/pdf_json/d1aafb70c066a2068b027...   \n",
       "1       document_parses/pdf_json/6b0567729c2143a66d737...   \n",
       "2       document_parses/pdf_json/06ced00a5fc04215949aa...   \n",
       "3       document_parses/pdf_json/348055649b6b8cf2b9a37...   \n",
       "4       document_parses/pdf_json/5f48792a5fa08bed9f560...   \n",
       "...                                                   ...   \n",
       "490898  document_parses/pdf_json/20b74039ae20e4dfae0a6...   \n",
       "490899  document_parses/pdf_json/4420ba48ac1065a1653a8...   \n",
       "490900  document_parses/pdf_json/15f169d3b781549c83dc8...   \n",
       "490901  document_parses/pdf_json/a8dca87fa78f22310ca79...   \n",
       "490902                                                NaN   \n",
       "\n",
       "                                      pmc_json_files  \\\n",
       "0         document_parses/pmc_json/PMC35282.xml.json   \n",
       "1         document_parses/pmc_json/PMC59543.xml.json   \n",
       "2         document_parses/pmc_json/PMC59549.xml.json   \n",
       "3         document_parses/pmc_json/PMC59574.xml.json   \n",
       "4         document_parses/pmc_json/PMC59580.xml.json   \n",
       "...                                              ...   \n",
       "490898                                           NaN   \n",
       "490899  document_parses/pmc_json/PMC7377995.xml.json   \n",
       "490900  document_parses/pmc_json/PMC7839935.xml.json   \n",
       "490901  document_parses/pmc_json/PMC7088145.xml.json   \n",
       "490902                                           NaN   \n",
       "\n",
       "                                                      url        s2_id  \n",
       "0       https://www.ncbi.nlm.nih.gov/pmc/articles/PMC3...          NaN  \n",
       "1       https://www.ncbi.nlm.nih.gov/pmc/articles/PMC5...          NaN  \n",
       "2       https://www.ncbi.nlm.nih.gov/pmc/articles/PMC5...          NaN  \n",
       "3       https://www.ncbi.nlm.nih.gov/pmc/articles/PMC5...          NaN  \n",
       "4       https://www.ncbi.nlm.nih.gov/pmc/articles/PMC5...          NaN  \n",
       "...                                                   ...          ...  \n",
       "490898  https://api.elsevier.com/content/article/pii/S...  220428659.0  \n",
       "490899  https://doi.org/10.1016/j.econlet.2020.109433;...  220715537.0  \n",
       "490900  https://doi.org/10.1007/s00134-021-06346-w; ht...  231720985.0  \n",
       "490901  https://doi.org/10.1007/s00438-009-0473-3; htt...   25567802.0  \n",
       "490902  https://api.elsevier.com/content/article/pii/S...  222091830.0  \n",
       "\n",
       "[356524 rows x 19 columns]"
      ]
     },
     "execution_count": 40,
     "metadata": {},
     "output_type": "execute_result"
    }
   ],
   "source": [
    "article_metadata[(~article_metadata['abstract'].isna()) & (~article_metadata['title'].isna())]"
   ]
  },
  {
   "cell_type": "markdown",
   "metadata": {},
   "source": [
    "## Weather Data"
   ]
  },
  {
   "cell_type": "code",
   "execution_count": 41,
   "metadata": {},
   "outputs": [],
   "source": [
    "import pandas as pd\n",
    "jax_data_weather = pd.read_csv('../COVID_data/five_thirty_eight/us-weather-history/KJAX.csv')"
   ]
  },
  {
   "cell_type": "code",
   "execution_count": 42,
   "metadata": {},
   "outputs": [
    {
     "data": {
      "text/html": [
       "\n",
       "<div id=\"altair-viz-2264d8ece6154fc9a3452723a9417e53\"></div>\n",
       "<script type=\"text/javascript\">\n",
       "  (function(spec, embedOpt){\n",
       "    let outputDiv = document.currentScript.previousElementSibling;\n",
       "    if (outputDiv.id !== \"altair-viz-2264d8ece6154fc9a3452723a9417e53\") {\n",
       "      outputDiv = document.getElementById(\"altair-viz-2264d8ece6154fc9a3452723a9417e53\");\n",
       "    }\n",
       "    const paths = {\n",
       "      \"vega\": \"https://cdn.jsdelivr.net/npm//vega@5?noext\",\n",
       "      \"vega-lib\": \"https://cdn.jsdelivr.net/npm//vega-lib?noext\",\n",
       "      \"vega-lite\": \"https://cdn.jsdelivr.net/npm//vega-lite@4.8.1?noext\",\n",
       "      \"vega-embed\": \"https://cdn.jsdelivr.net/npm//vega-embed@6?noext\",\n",
       "    };\n",
       "\n",
       "    function loadScript(lib) {\n",
       "      return new Promise(function(resolve, reject) {\n",
       "        var s = document.createElement('script');\n",
       "        s.src = paths[lib];\n",
       "        s.async = true;\n",
       "        s.onload = () => resolve(paths[lib]);\n",
       "        s.onerror = () => reject(`Error loading script: ${paths[lib]}`);\n",
       "        document.getElementsByTagName(\"head\")[0].appendChild(s);\n",
       "      });\n",
       "    }\n",
       "\n",
       "    function showError(err) {\n",
       "      outputDiv.innerHTML = `<div class=\"error\" style=\"color:red;\">${err}</div>`;\n",
       "      throw err;\n",
       "    }\n",
       "\n",
       "    function displayChart(vegaEmbed) {\n",
       "      vegaEmbed(outputDiv, spec, embedOpt)\n",
       "        .catch(err => showError(`Javascript Error: ${err.message}<br>This usually means there's a typo in your chart specification. See the javascript console for the full traceback.`));\n",
       "    }\n",
       "\n",
       "    if(typeof define === \"function\" && define.amd) {\n",
       "      requirejs.config({paths});\n",
       "      require([\"vega-embed\"], displayChart, err => showError(`Error loading script: ${err.message}`));\n",
       "    } else if (typeof vegaEmbed === \"function\") {\n",
       "      displayChart(vegaEmbed);\n",
       "    } else {\n",
       "      loadScript(\"vega\")\n",
       "        .then(() => loadScript(\"vega-lite\"))\n",
       "        .then(() => loadScript(\"vega-embed\"))\n",
       "        .catch(showError)\n",
       "        .then(() => displayChart(vegaEmbed));\n",
       "    }\n",
       "  })({\"config\": {\"view\": {\"continuousWidth\": 400, \"continuousHeight\": 300}}, \"layer\": [{\"mark\": {\"type\": \"area\", \"color\": \"lightblue\", \"opacity\": 0.2}, \"encoding\": {\"x\": {\"type\": \"temporal\", \"field\": \"date\"}, \"y\": {\"type\": \"quantitative\", \"field\": \"average_min_temp\"}, \"y2\": {\"field\": \"average_max_temp\"}}}, {\"mark\": \"line\", \"encoding\": {\"x\": {\"type\": \"temporal\", \"field\": \"date\"}, \"y\": {\"type\": \"quantitative\", \"field\": \"actual_mean_temp\"}}}], \"data\": {\"url\": \"http://localhost:24230/73a187e6fadf4069007a5dcef77ce1f4.json\"}, \"$schema\": \"https://vega.github.io/schema/vega-lite/v4.8.1.json\"}, {\"mode\": \"vega-lite\"});\n",
       "</script>"
      ],
      "text/plain": [
       "alt.LayerChart(...)"
      ]
     },
     "execution_count": 42,
     "metadata": {},
     "output_type": "execute_result"
    }
   ],
   "source": [
    "import altair as alt\n",
    "\n",
    "c1 = alt.Chart(jax_data_weather).mark_area(opacity=0.2, color='lightblue').encode(\n",
    "    x='date:T',\n",
    "    y='average_min_temp:Q',\n",
    "    y2='average_max_temp:Q'\n",
    ")\n",
    "c2 = alt.Chart(jax_data_weather).mark_line().encode(\n",
    "    x='date:T',\n",
    "    y='actual_mean_temp:Q',\n",
    ")\n",
    "c1+c2"
   ]
  },
  {
   "cell_type": "code",
   "execution_count": null,
   "metadata": {},
   "outputs": [],
   "source": []
  }
 ],
 "metadata": {
  "kernelspec": {
   "display_name": "Python 3",
   "language": "python",
   "name": "python3"
  },
  "language_info": {
   "codemirror_mode": {
    "name": "ipython",
    "version": 3
   },
   "file_extension": ".py",
   "mimetype": "text/x-python",
   "name": "python",
   "nbconvert_exporter": "python",
   "pygments_lexer": "ipython3",
   "version": "3.7.10"
  }
 },
 "nbformat": 4,
 "nbformat_minor": 4
}
